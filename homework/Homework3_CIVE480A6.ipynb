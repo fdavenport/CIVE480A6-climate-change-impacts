{
  "cells": [
    {
      "cell_type": "markdown",
      "metadata": {
        "id": "view-in-github",
        "colab_type": "text"
      },
      "source": [
        "<a href=\"https://colab.research.google.com/github/fdavenport/CIVE480A6-climate-change-impacts/blob/main/homework/Homework3_CIVE480A6.ipynb\" target=\"_parent\"><img src=\"https://colab.research.google.com/assets/colab-badge.svg\" alt=\"Open In Colab\"/></a>"
      ]
    },
    {
      "cell_type": "markdown",
      "id": "7e930493-2f2a-4ba5-865e-8567ecd9bff2",
      "metadata": {
        "id": "7e930493-2f2a-4ba5-865e-8567ecd9bff2"
      },
      "source": [
        "## CIVE480A6 Homework 3\n",
        "\n",
        "**Due:** Tuesday, October 8, 2024 at 9:00am\n",
        "\n",
        "\n",
        "**Objectives:**\n",
        "1. Show and discuss the relationship between atmospheric water vapor and temperature.   \n",
        "2. Calculate annual snowpack patterns using historical data.\n",
        "3. Analyze trends in snow hydrology.\n",
        "   \n",
        "**Total points for Homework 3: 13 pts**\n",
        "*   Correct answers to Python problems: 10 pts\n",
        "*   Answers to discussion questions: 3 pts\n",
        "\n",
        "To turn in your assignment, first open the notebook in Colab. Go under \"File -> Save a copy to Drive\" to save your own copy of this notebook. Now, you can edit the notebook and save your changes to your Google Drive as you work. Once you are done with your assignment and are ready to turn it in, go to \"File -> Download -> Download .ipynb\". To submit the assignment, upload the .ipynb file to the assignment in Canvas."
      ]
    },
    {
      "cell_type": "code",
      "execution_count": null,
      "id": "b09e781e-2bbd-4308-ab2d-84f3eefd624d",
      "metadata": {
        "id": "b09e781e-2bbd-4308-ab2d-84f3eefd624d"
      },
      "outputs": [],
      "source": [
        "## import libraries you may want to use for the assignment\n",
        "import pandas as pd\n",
        "import matplotlib.pyplot as plt\n"
      ]
    },
    {
      "cell_type": "markdown",
      "id": "6cabd567-9920-417c-9192-f448debd7f71",
      "metadata": {
        "id": "6cabd567-9920-417c-9192-f448debd7f71"
      },
      "source": [
        "## Problem 1\n",
        "As we discussed in class, the saturation vapor pressure of air increases as a function of temperature, as described by the Clausius-Clapeyron relation. The [following equation](https://en.wikipedia.org/wiki/Tetens_equation) gives the saturation vapor pressure of water for a given temperature:\n",
        "\n",
        "$e_s = 0.61078 exp(\\frac{17.27T}{T+237.3})$\n",
        "\n",
        "where $e_s$ is the saturation vapor pressure in kPa and $T$ is the temperature in $^{\\circ} C$."
      ]
    },
    {
      "cell_type": "markdown",
      "id": "6253d30f-ed69-41fe-9caf-cc574dbce518",
      "metadata": {
        "id": "6253d30f-ed69-41fe-9caf-cc574dbce518"
      },
      "source": [
        "**1a)** Using the equation above, calculate $e_s$ **at** $15^{\\circ}C$."
      ]
    },
    {
      "cell_type": "code",
      "execution_count": null,
      "id": "dc966c51-0411-410a-9d4f-e3c9e77d8c2e",
      "metadata": {
        "id": "dc966c51-0411-410a-9d4f-e3c9e77d8c2e"
      },
      "outputs": [],
      "source": [
        "## add code here\n"
      ]
    },
    {
      "cell_type": "markdown",
      "id": "ea096344-f7de-4a68-8254-e48a4e66d12d",
      "metadata": {
        "id": "ea096344-f7de-4a68-8254-e48a4e66d12d"
      },
      "source": [
        "**1b)** Calculate $e_s$ **at** $16^{\\circ}C$."
      ]
    },
    {
      "cell_type": "code",
      "execution_count": null,
      "id": "cdcd6ee8-94b1-497c-941f-3194484e3203",
      "metadata": {
        "scrolled": true,
        "id": "cdcd6ee8-94b1-497c-941f-3194484e3203"
      },
      "outputs": [],
      "source": [
        "## add code here\n"
      ]
    },
    {
      "cell_type": "markdown",
      "id": "b78f9664-a7f5-46e3-b612-c5b6623fd8ad",
      "metadata": {
        "id": "b78f9664-a7f5-46e3-b612-c5b6623fd8ad"
      },
      "source": [
        "**1c)** Calculate the percent change in $e_s$ from $15^{\\circ}C$ to $16^{\\circ}C$."
      ]
    },
    {
      "cell_type": "code",
      "source": [
        "## add code here"
      ],
      "metadata": {
        "id": "8cIx-46Ae-Uh"
      },
      "id": "8cIx-46Ae-Uh",
      "execution_count": null,
      "outputs": []
    },
    {
      "cell_type": "markdown",
      "id": "7f6ff04b-624f-4ca3-bf3c-5c958b5efead",
      "metadata": {
        "id": "7f6ff04b-624f-4ca3-bf3c-5c958b5efead"
      },
      "source": [
        "**1d)** Create a graph of $e_s$ vs. $T$ between $0^{\\circ}C$ and $35^{\\circ}C$."
      ]
    },
    {
      "cell_type": "code",
      "execution_count": null,
      "id": "40571307-e460-4775-9170-a5898b3ede88",
      "metadata": {
        "id": "40571307-e460-4775-9170-a5898b3ede88"
      },
      "outputs": [],
      "source": [
        "# add code here\n"
      ]
    },
    {
      "cell_type": "markdown",
      "id": "26300840-4fe6-41b2-9c74-f243bc8a7179",
      "metadata": {
        "id": "26300840-4fe6-41b2-9c74-f243bc8a7179"
      },
      "source": [
        "**1e)** Discussion: Describe one way that increases in $e_s$ in the atmosphere (due to global warming) affect processes in the water cycle."
      ]
    },
    {
      "cell_type": "markdown",
      "id": "316aaef9-f3d9-4815-ac42-74f5e2bb1adb",
      "metadata": {
        "id": "316aaef9-f3d9-4815-ac42-74f5e2bb1adb"
      },
      "source": [
        "*add your answer here*"
      ]
    },
    {
      "cell_type": "markdown",
      "id": "4f5a8510-b9e0-490d-93de-1030943ce05c",
      "metadata": {
        "id": "4f5a8510-b9e0-490d-93de-1030943ce05c"
      },
      "source": [
        "## Problem 2"
      ]
    },
    {
      "cell_type": "markdown",
      "id": "9eceaa36-7507-4dee-bc4b-deb4b1a40a8c",
      "metadata": {
        "id": "9eceaa36-7507-4dee-bc4b-deb4b1a40a8c"
      },
      "source": [
        "The data for this assignment comes from a snow monitoring station that is part of the [Snow Telemetry](https://www.nrcs.usda.gov/wps/portal/wcc/home/aboutUs/monitoringPrograms/automatedSnowMonitoring/) (SNOTEL) network across the western United States.\n",
        "\n",
        "<img src=\"https://github.com/fdavenport/CIVE480A6-climate-change-impacts/blob/main/homework/img/snotel_site.jpg?raw=true\" width=\"400\"/>  <img src=\"https://github.com/fdavenport/CIVE480A6-climate-change-impacts/blob/main/homework/img/snotel_map.png?raw=true\" width=\"500\"/>\n",
        "\n",
        "For this problem, you will analyze snowpack changes at the [Elk River station](https://wcc.sc.egov.usda.gov/nwcc/site?sitenum=467) in Routt County, Colorado.\n",
        "\n",
        "The data for this station has been uploaded to the course github [homework](https://github.com/fdavenport/CIVE480A6-climate-change-impacts/tree/main/homework) folder at this url:"
      ]
    },
    {
      "cell_type": "code",
      "execution_count": null,
      "id": "02e8c478-5b54-437f-8174-ebc52a526aba",
      "metadata": {
        "id": "02e8c478-5b54-437f-8174-ebc52a526aba"
      },
      "outputs": [],
      "source": [
        "elk_river_snow_data_url = \"https://raw.githubusercontent.com/fdavenport/CIVE480A6-climate-change-impacts/refs/heads/main/homework/data/elk_river_snotel_data.csv\"\n"
      ]
    },
    {
      "cell_type": "markdown",
      "source": [
        "**2a)** Make a time series graph of the daily SWE at the Elk River station for water year 2023.\n",
        "\n",
        "Note: A \"water year\" is the period from Oct 1 of the preceeding year through Sep 30 of the current year. For example, the 2024 water year ran from Oct 1, 2023 through Sep 30, 2024. Because the water year runs from October through September, it includes all of the winter snowfall for one season (rather than having the snow season split across two calendar years). The water year has already been added to the data file."
      ],
      "metadata": {
        "id": "uyxCbN6SnZqc"
      },
      "id": "uyxCbN6SnZqc"
    },
    {
      "cell_type": "code",
      "source": [
        "## add code here"
      ],
      "metadata": {
        "id": "wTb_6MdqnY0b"
      },
      "id": "wTb_6MdqnY0b",
      "execution_count": null,
      "outputs": []
    },
    {
      "cell_type": "markdown",
      "id": "70158f35-1865-4254-b176-b98523945582",
      "metadata": {
        "id": "70158f35-1865-4254-b176-b98523945582"
      },
      "source": [
        "**2b)** Calculate the maximum snow water equivalent value (called \"peak SWE\") and the date of the maximum snow water equivalent value in each \"water year\" over the 1979-2024 time period.\n",
        "\n",
        "Print out the peak SWE amount and date of peak SWE for the past 5 years."
      ]
    },
    {
      "cell_type": "code",
      "execution_count": null,
      "id": "4d07fb53-d4de-4158-a40f-e08e1a6a5ea3",
      "metadata": {
        "id": "4d07fb53-d4de-4158-a40f-e08e1a6a5ea3"
      },
      "outputs": [],
      "source": [
        "# add code here (use as many code blocks as needed)\n"
      ]
    },
    {
      "cell_type": "markdown",
      "source": [
        "**2c)** Calculate (and print out) the average peak SWE and the average date of peak SWE over the full time period.\n",
        "\n",
        "*Hint*: you can use the pandas day of year functions to determine the day of the year that peak SWE occurs each year: [pandas.Series.dt.dayofyear](https://pandas.pydata.org/docs/reference/api/pandas.Series.dt.dayofyear.html). You can then average these integers rather than averaging dates."
      ],
      "metadata": {
        "id": "3w3DUuQcn8DW"
      },
      "id": "3w3DUuQcn8DW"
    },
    {
      "cell_type": "code",
      "source": [
        "# add code here"
      ],
      "metadata": {
        "id": "FxMqk3F1n8Y_"
      },
      "id": "FxMqk3F1n8Y_",
      "execution_count": null,
      "outputs": []
    },
    {
      "cell_type": "markdown",
      "id": "dad72474-1df7-4c89-91b9-4888c96d38a2",
      "metadata": {
        "id": "dad72474-1df7-4c89-91b9-4888c96d38a2"
      },
      "source": [
        "**2d)** Now you will compare snowpack patterns for the first half of the period (1979 to 2001) and for the second half of the period (2002 to 2024). Calculate and print out the average annual maximum SWE within each period."
      ]
    },
    {
      "cell_type": "code",
      "execution_count": null,
      "id": "ddffe4ee-6d24-4cbf-b83d-bce803da8bb8",
      "metadata": {
        "id": "ddffe4ee-6d24-4cbf-b83d-bce803da8bb8"
      },
      "outputs": [],
      "source": [
        "# add code here\n"
      ]
    },
    {
      "cell_type": "markdown",
      "id": "0b576407-0ddf-40a5-8090-d1c9a2fdb1ab",
      "metadata": {
        "id": "0b576407-0ddf-40a5-8090-d1c9a2fdb1ab"
      },
      "source": [
        "**2e)**  Calculate and print out the average date of annual maximum SWE within each period."
      ]
    },
    {
      "cell_type": "code",
      "execution_count": null,
      "id": "799b3d7d-84b5-406f-afa8-1ed9a0b41d5d",
      "metadata": {
        "id": "799b3d7d-84b5-406f-afa8-1ed9a0b41d5d"
      },
      "outputs": [],
      "source": [
        "# add code here\n"
      ]
    },
    {
      "cell_type": "markdown",
      "id": "c494bc86-063e-405e-b005-a2e592842b54",
      "metadata": {
        "id": "c494bc86-063e-405e-b005-a2e592842b54"
      },
      "source": [
        "**2f)** Discussion: What changes in the timing and amount of peak SWE between the more recent time period and the earlier time period do your results suggest? Is this what you would expect with climate change?"
      ]
    },
    {
      "cell_type": "markdown",
      "source": [
        "*add your answer here*"
      ],
      "metadata": {
        "id": "pHb1GHpBVBsF"
      },
      "id": "pHb1GHpBVBsF"
    }
  ],
  "metadata": {
    "kernelspec": {
      "display_name": "Python 3 (ipykernel)",
      "language": "python",
      "name": "python3"
    },
    "language_info": {
      "codemirror_mode": {
        "name": "ipython",
        "version": 3
      },
      "file_extension": ".py",
      "mimetype": "text/x-python",
      "name": "python",
      "nbconvert_exporter": "python",
      "pygments_lexer": "ipython3",
      "version": "3.12.5"
    },
    "colab": {
      "provenance": [],
      "include_colab_link": true
    }
  },
  "nbformat": 4,
  "nbformat_minor": 5
}