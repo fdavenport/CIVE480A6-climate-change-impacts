{
  "cells": [
    {
      "cell_type": "markdown",
      "id": "820055ae-f18c-4786-889b-7f99b7731f58",
      "metadata": {
        "id": "820055ae-f18c-4786-889b-7f99b7731f58"
      },
      "source": [
        "<a target=\"_blank\" href=\"https://colab.research.google.com/github/fdavenport/CIVE480A6-climate-change-impacts/blob/main/homework/Homework2_CIVE480A6.ipynb\"><img src=\"https://colab.research.google.com/assets/colab-badge.svg\" alt=\"Open In Colab\"/>\n",
        "</a>"
      ]
    },
    {
      "cell_type": "markdown",
      "id": "7e930493-2f2a-4ba5-865e-8567ecd9bff2",
      "metadata": {
        "id": "7e930493-2f2a-4ba5-865e-8567ecd9bff2"
      },
      "source": [
        "## CIVE480A6 Homework 2\n",
        "\n",
        "**Due:** Tuesday, September 19, 2024 at 9:00am\n",
        "\n",
        "## Overview\n",
        "For this assignment, imagine that you are working as an engineer with expertise in climate change analysis, and the state of Colorado has asked you to provide an assessment of historical climate change. Your goal is to assess how annual average temperature and annual average precipitation have been changing in the state. In addition to the maps and graphs you create, you will need to provide them with an interpretion and discussion of your results (in the discussion questions).  \n",
        "\n",
        "**Objectives:**\n",
        "1. Explore temperature and precipitation change in Colorado.  \n",
        "2. Use maps and trend analysis to compare both the spatial and temporal patterns of change.\n",
        "3. Interpret your analysis based on climate variability and other topics discussed in lecture.\n",
        "   \n",
        "**Total points for Homework 2: 13 pts**\n",
        "*   Correct answers to Python problems: 9 pts\n",
        "*   Answers to discussion questions: 4 pts\n",
        "\n",
        "To turn in your assignment, first open the notebook in Colab. Go under \"File -> Save a copy to Drive\" to save your own copy of this notebook. Now, you can edit the notebook and save your changes to your Google Drive as you work. Once you are done with your assignment and are ready to turn it in, go to \"File -> Download -> Download .ipynb\". To submit the assignment, upload the .ipynb file to the assignment in Canvas."
      ]
    },
    {
      "cell_type": "code",
      "execution_count": null,
      "id": "b09e781e-2bbd-4308-ab2d-84f3eefd624d",
      "metadata": {
        "id": "b09e781e-2bbd-4308-ab2d-84f3eefd624d"
      },
      "outputs": [],
      "source": [
        "## import libraries you may want to use for the assignment\n",
        "import xarray as xr\n",
        "import matplotlib.pyplot as plt\n",
        "\n",
        "!pip install cartopy\n",
        "import cartopy.crs as ccrs\n",
        "import cartopy.feature as cfeature\n",
        "\n",
        "from scipy import stats"
      ]
    },
    {
      "cell_type": "markdown",
      "id": "9eceaa36-7507-4dee-bc4b-deb4b1a40a8c",
      "metadata": {
        "id": "9eceaa36-7507-4dee-bc4b-deb4b1a40a8c"
      },
      "source": [
        "## Data\n",
        "The data for this assignment comes from the [PRISM dataset](https://prism.oregonstate.edu/), which is a widely used temperature and precipitation dataset for the United States (minus Hawaii and Alaska). PRISM has 4km resolution gridded temperature and precipitation data (meaning eaching grid cell corresponds to a 4km x 4km area). You will be analyzing annual values (average temperature for each year and total precipitation for each year). The data covers a ~130 year period beginning in 1895.\n",
        "\n",
        "The data files are stored on the course github [homework](https://github.com/fdavenport/CIVE480A6-climate-change-impacts/tree/main/homework) folder. The files are large, so you will need to download them using wget. The URLs and commands to download the data are:"
      ]
    },
    {
      "cell_type": "code",
      "execution_count": null,
      "id": "02e8c478-5b54-437f-8174-ebc52a526aba",
      "metadata": {
        "id": "02e8c478-5b54-437f-8174-ebc52a526aba"
      },
      "outputs": [],
      "source": [
        "temp_data_url = \"https://raw.githubusercontent.com/fdavenport/CIVE480A6-climate-change-impacts/main/homework/data/PRISM_CO_annual_temp_1895_2023.nc\"\n",
        "!wget {temp_data_url} -O PRISM_CO_annual_temp_1895_2023.nc\n",
        "\n",
        "precip_data_url = \"https://raw.githubusercontent.com/fdavenport/CIVE480A6-climate-change-impacts/main/homework/data/PRISM_CO_annual_precip_1895_2023.nc\"\n",
        "!wget {precip_data_url} -O PRISM_CO_annual_precip_1895_2023.nc"
      ]
    },
    {
      "cell_type": "markdown",
      "id": "6cabd567-9920-417c-9192-f448debd7f71",
      "metadata": {
        "id": "6cabd567-9920-417c-9192-f448debd7f71"
      },
      "source": [
        "## Problem 1\n",
        "In this first problem, you will perform a spatial analysis of changes in temperature and precipitation across the entire state of Colorado."
      ]
    },
    {
      "cell_type": "markdown",
      "id": "6253d30f-ed69-41fe-9caf-cc574dbce518",
      "metadata": {
        "id": "6253d30f-ed69-41fe-9caf-cc574dbce518"
      },
      "source": [
        "**1a)** Create a map showing average annual temperature in Colorado for the past 30 years (1994-2023). Make sure your map is clearly labeled with a title, legend, units, and anything else you think is useful."
      ]
    },
    {
      "cell_type": "code",
      "execution_count": null,
      "id": "dc966c51-0411-410a-9d4f-e3c9e77d8c2e",
      "metadata": {
        "id": "dc966c51-0411-410a-9d4f-e3c9e77d8c2e"
      },
      "outputs": [],
      "source": [
        "## add code here\n"
      ]
    },
    {
      "cell_type": "markdown",
      "id": "1414c0f9-dd45-43ac-a37a-a32f97557edb",
      "metadata": {
        "id": "1414c0f9-dd45-43ac-a37a-a32f97557edb"
      },
      "source": [
        "**Discussion**: Describe the spatial pattern of average temperature across the state (i.e. where are temperatures highest, lowest, etc.)"
      ]
    },
    {
      "cell_type": "markdown",
      "id": "90f1363a-ac99-4882-aa79-1c2938f44eab",
      "metadata": {
        "id": "90f1363a-ac99-4882-aa79-1c2938f44eab"
      },
      "source": [
        "*add your answer here*"
      ]
    },
    {
      "cell_type": "markdown",
      "id": "ea096344-f7de-4a68-8254-e48a4e66d12d",
      "metadata": {
        "id": "ea096344-f7de-4a68-8254-e48a4e66d12d"
      },
      "source": [
        "**1b)** Repeat 1a for average annual precipitation."
      ]
    },
    {
      "cell_type": "code",
      "execution_count": null,
      "id": "cdcd6ee8-94b1-497c-941f-3194484e3203",
      "metadata": {
        "scrolled": true,
        "id": "cdcd6ee8-94b1-497c-941f-3194484e3203"
      },
      "outputs": [],
      "source": [
        "## add code here\n"
      ]
    },
    {
      "cell_type": "markdown",
      "id": "b78f9664-a7f5-46e3-b612-c5b6623fd8ad",
      "metadata": {
        "id": "b78f9664-a7f5-46e3-b612-c5b6623fd8ad"
      },
      "source": [
        "**Discussion**: Describe the spatial pattern of average annual precipitation across the state."
      ]
    },
    {
      "cell_type": "markdown",
      "id": "d2aa4b4a-f0fa-4929-a930-96ecfc6ca768",
      "metadata": {
        "id": "d2aa4b4a-f0fa-4929-a930-96ecfc6ca768"
      },
      "source": [
        "*add your answer here*"
      ]
    },
    {
      "cell_type": "markdown",
      "id": "7f6ff04b-624f-4ca3-bf3c-5c958b5efead",
      "metadata": {
        "id": "7f6ff04b-624f-4ca3-bf3c-5c958b5efead"
      },
      "source": [
        "**1c)** Now, you will compare the recent temperature and precipitation from 1a) and 1b) to what average conditions were like over the period from 1895-1924. Make two maps, one showing the change in temperature and one showing the change in precipitation between the two time periods. (Be sure to properly label your maps!)"
      ]
    },
    {
      "cell_type": "code",
      "execution_count": null,
      "id": "40571307-e460-4775-9170-a5898b3ede88",
      "metadata": {
        "id": "40571307-e460-4775-9170-a5898b3ede88"
      },
      "outputs": [],
      "source": [
        "# add code here\n"
      ]
    },
    {
      "cell_type": "markdown",
      "id": "26300840-4fe6-41b2-9c74-f243bc8a7179",
      "metadata": {
        "id": "26300840-4fe6-41b2-9c74-f243bc8a7179"
      },
      "source": [
        "**1d)** Discussion: Describe the spatial patterns of temperature and precipitation *change* in Colorado based on your maps in 1c. (For example, which regions are changing faster or slower than other parts of the state?)"
      ]
    },
    {
      "cell_type": "markdown",
      "id": "316aaef9-f3d9-4815-ac42-74f5e2bb1adb",
      "metadata": {
        "id": "316aaef9-f3d9-4815-ac42-74f5e2bb1adb"
      },
      "source": [
        "*add your answer here*"
      ]
    },
    {
      "cell_type": "markdown",
      "id": "02372bcf-f020-4edf-8aa0-6fb080712a06",
      "metadata": {
        "id": "02372bcf-f020-4edf-8aa0-6fb080712a06"
      },
      "source": [
        "**1e)** Experiment with making new versions of your maps from 1c) but using shorter or longer (or earlier or later) recent and historical time periods. Show three different temperature change maps and three different precipitation change maps from your experimentation."
      ]
    },
    {
      "cell_type": "code",
      "execution_count": null,
      "id": "9f67f9ad-3bf3-4f41-879d-54e7c15e90fc",
      "metadata": {
        "id": "9f67f9ad-3bf3-4f41-879d-54e7c15e90fc"
      },
      "outputs": [],
      "source": [
        "## add code here\n"
      ]
    },
    {
      "cell_type": "markdown",
      "id": "3d8fca29-c6d5-47f3-9d22-89e5e8457aa1",
      "metadata": {
        "id": "3d8fca29-c6d5-47f3-9d22-89e5e8457aa1"
      },
      "source": [
        "**1f)** Discussion: What differences do you notice in these maps? How is your interpretation of historical climate change  affected by the time period chosen?"
      ]
    },
    {
      "cell_type": "markdown",
      "id": "861161c4-8ac0-4cd6-b5ae-51d206746b07",
      "metadata": {
        "id": "861161c4-8ac0-4cd6-b5ae-51d206746b07"
      },
      "source": [
        "*add your answers here*"
      ]
    },
    {
      "cell_type": "markdown",
      "source": [
        "Are the changes in one variable (temperature or precipitation) more sensitive to the time periods chosen? (Justify your answer in terms of specific patterns in your maps)."
      ],
      "metadata": {
        "id": "xL0_239ZT-Ad"
      },
      "id": "xL0_239ZT-Ad"
    },
    {
      "cell_type": "markdown",
      "source": [
        "*add your answer here*"
      ],
      "metadata": {
        "id": "jJJ40Ja_UKY9"
      },
      "id": "jJJ40Ja_UKY9"
    },
    {
      "cell_type": "markdown",
      "id": "4f5a8510-b9e0-490d-93de-1030943ce05c",
      "metadata": {
        "id": "4f5a8510-b9e0-490d-93de-1030943ce05c"
      },
      "source": [
        "## Problem 2\n",
        "Now, you will analyze time series of temperature and precipitation change for two individual locations. This will allow you to assess the rate of climate change over different periods in time."
      ]
    },
    {
      "cell_type": "markdown",
      "id": "70158f35-1865-4254-b176-b98523945582",
      "metadata": {
        "id": "70158f35-1865-4254-b176-b98523945582"
      },
      "source": [
        "**2a)** First, let's look at Fort Collins. We will use the approximate geographic coordinates of CSU Main Campus, which is 40.57 North (latitude) and -105.08 West (longitude).\n",
        "\n",
        "Create time series graphs of average annual temperature and average annual precipitation in Fort Collins between 1895-2023. Add trend lines to the graph for three different time periods: 1895-2023, 1950-2023, and 1990-2023."
      ]
    },
    {
      "cell_type": "code",
      "execution_count": null,
      "id": "4d07fb53-d4de-4158-a40f-e08e1a6a5ea3",
      "metadata": {
        "id": "4d07fb53-d4de-4158-a40f-e08e1a6a5ea3"
      },
      "outputs": [],
      "source": [
        "# add code here\n"
      ]
    },
    {
      "cell_type": "markdown",
      "id": "dad72474-1df7-4c89-91b9-4888c96d38a2",
      "metadata": {
        "id": "dad72474-1df7-4c89-91b9-4888c96d38a2"
      },
      "source": [
        "Report both the slope and statistical significance of the trends:"
      ]
    },
    {
      "cell_type": "code",
      "execution_count": null,
      "id": "ddffe4ee-6d24-4cbf-b83d-bce803da8bb8",
      "metadata": {
        "id": "ddffe4ee-6d24-4cbf-b83d-bce803da8bb8"
      },
      "outputs": [],
      "source": [
        "# add code here"
      ]
    },
    {
      "cell_type": "markdown",
      "id": "0b576407-0ddf-40a5-8090-d1c9a2fdb1ab",
      "metadata": {
        "id": "0b576407-0ddf-40a5-8090-d1c9a2fdb1ab"
      },
      "source": [
        "**2b)** Repeat 2a) for Pagoda, CO, which has approximate geographic coordinates of 40.337 (latitude) and -107.415 (longitude)."
      ]
    },
    {
      "cell_type": "code",
      "execution_count": null,
      "id": "799b3d7d-84b5-406f-afa8-1ed9a0b41d5d",
      "metadata": {
        "id": "799b3d7d-84b5-406f-afa8-1ed9a0b41d5d"
      },
      "outputs": [],
      "source": [
        "# add code here\n"
      ]
    },
    {
      "cell_type": "code",
      "execution_count": null,
      "id": "3d2b3a45-c863-4afb-a7f5-de8bf622b19c",
      "metadata": {
        "id": "3d2b3a45-c863-4afb-a7f5-de8bf622b19c"
      },
      "outputs": [],
      "source": [
        "# add code here"
      ]
    },
    {
      "cell_type": "markdown",
      "id": "c494bc86-063e-405e-b005-a2e592842b54",
      "metadata": {
        "id": "c494bc86-063e-405e-b005-a2e592842b54"
      },
      "source": [
        "**2c)** Discussion: Describe the trends in temperature and precipitation for each location. How do the magnitude and statistical significance of the trends change for different time periods (if at all)?"
      ]
    },
    {
      "cell_type": "markdown",
      "source": [
        "*add your answer here*"
      ],
      "metadata": {
        "id": "pHb1GHpBVBsF"
      },
      "id": "pHb1GHpBVBsF"
    },
    {
      "cell_type": "markdown",
      "source": [
        "What would be an advantage of using the trends for the longest period (1895-2023) to calculate climate change?"
      ],
      "metadata": {
        "id": "eZsCObTNVBjK"
      },
      "id": "eZsCObTNVBjK"
    },
    {
      "cell_type": "markdown",
      "source": [
        "*add your answer here*"
      ],
      "metadata": {
        "id": "BVsVe780VBaI"
      },
      "id": "BVsVe780VBaI"
    },
    {
      "cell_type": "markdown",
      "source": [
        "What would be an advantage of using the trends for the most recent period (1990-2023) to calculate climate change?"
      ],
      "metadata": {
        "id": "sPd7YfQOVIrL"
      },
      "id": "sPd7YfQOVIrL"
    },
    {
      "cell_type": "markdown",
      "source": [
        "*add your answer here*"
      ],
      "metadata": {
        "id": "d_fQzpqOVIe8"
      },
      "id": "d_fQzpqOVIe8"
    },
    {
      "cell_type": "markdown",
      "id": "8aa8902f-3ebe-417d-98f3-1707be708e45",
      "metadata": {
        "id": "8aa8902f-3ebe-417d-98f3-1707be708e45"
      },
      "source": [
        "## Problem 3:\n",
        "\n",
        "**3a)** Write a short paragraph summarizing your assessment of precipitation and temperature change in Colorado (aim for 6-10 sentences). You can include things like which variable or regions appear to have more substantial changes, how changes have varied over time, or any other patterns that you found."
      ]
    },
    {
      "cell_type": "markdown",
      "id": "d1c672a7-0415-44dd-b20b-b9649014d9b7",
      "metadata": {
        "id": "d1c672a7-0415-44dd-b20b-b9649014d9b7"
      },
      "source": [
        "*add your answer here*"
      ]
    },
    {
      "cell_type": "markdown",
      "id": "9f210718-df04-40b5-a9d9-d24cba26a8de",
      "metadata": {
        "id": "9f210718-df04-40b5-a9d9-d24cba26a8de"
      },
      "source": [
        "**3b)** Provide and explain an example of one climate factor other than greenhouse gases that could have also contributed to changes in temperature or precipitation over the 1895-2023 time period. (You can discuss one of the examples covered in class)."
      ]
    },
    {
      "cell_type": "markdown",
      "id": "4cfaf915-eaab-4078-8c13-b68405ffda21",
      "metadata": {
        "id": "4cfaf915-eaab-4078-8c13-b68405ffda21"
      },
      "source": [
        "*add your answer here*"
      ]
    }
  ],
  "metadata": {
    "kernelspec": {
      "display_name": "Python 3 (ipykernel)",
      "language": "python",
      "name": "python3"
    },
    "language_info": {
      "codemirror_mode": {
        "name": "ipython",
        "version": 3
      },
      "file_extension": ".py",
      "mimetype": "text/x-python",
      "name": "python",
      "nbconvert_exporter": "python",
      "pygments_lexer": "ipython3",
      "version": "3.12.5"
    },
    "colab": {
      "provenance": []
    }
  },
  "nbformat": 4,
  "nbformat_minor": 5
}