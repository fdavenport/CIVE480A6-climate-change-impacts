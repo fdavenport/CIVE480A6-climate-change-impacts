{
 "cells": [
  {
   "cell_type": "markdown",
   "id": "820055ae-f18c-4786-889b-7f99b7731f58",
   "metadata": {},
   "source": [
    "<a target="_blank" href="https://colab.research.google.com/github/fdavenport/CIVE480A6-climate-change-impacts/blob/main/homework/Homework1_CIVE480A6.ipynb">
  <img src="https://colab.research.google.com/assets/colab-badge.svg" alt="Open In Colab"/>
</a>"
   ]
  },
  {
   "cell_type": "markdown",
   "id": "7e930493-2f2a-4ba5-865e-8567ecd9bff2",
   "metadata": {},
   "source": [
    "## CIVE480A6 Homework 1\n",
    "\n",
    "**Due:** Tuesday, September 3, 2024 at 9:00am\n",
    "\n",
    "**Objectives:**\n",
    "1. Practice using Python to perform mathematical calculations. \n",
    "2. Read and analyze climate-related data (atmospheric concentration observations) stored in table format (.csv files).\n",
    "3. Create and format time series graphs. \n",
    "   \n",
    "**Total points for Homework 1: 13 pts**\n",
    "*   Correct answers to Python problems: 9 pts\n",
    "*   Answers to discussion questions: 4 pts\n",
    "\n",
    "To turn in your assignment, first open the notebook in Colab. Go under \"File -> Save a copy to Drive\" to save your own copy of this notebook. Rename the assignment to \"YourLastName_Homework1_CIVE480A6.ipynb\". Now, you can edit the notebook and save your changes to your Google Drive as you work. Once you are done with your assignment and are ready to turn it in, go to \"File -> Download -> Download .ipynb\". To submit the assignment, upload the .ipynb file to the assignment in Canvas. \n"
   ]
  },
  {
   "cell_type": "code",
   "execution_count": null,
   "id": "b09e781e-2bbd-4308-ab2d-84f3eefd624d",
   "metadata": {},
   "outputs": [],
   "source": [
    "## import libraries to use for the assignment\n",
    "import pandas as pd\n",
    "import matplotlib.pyplot as plt"
   ]
  },
  {
   "cell_type": "markdown",
   "id": "9eceaa36-7507-4dee-bc4b-deb4b1a40a8c",
   "metadata": {},
   "source": [
    "## Problem #1\n",
    "\n",
    "In this problem, you will practice assigning variables and working with different data types in Python. Some of the code has already been created for you. You will need to add some additional code and run the code cells. "
   ]
  },
  {
   "cell_type": "markdown",
   "id": "f1ea1dc1-58ae-4710-9670-c9addaabfc13",
   "metadata": {},
   "source": [
    "**1a) Working with strings**. Create two variables with values equal to your first and last name. Print out your name using Python's print() function: "
   ]
  },
  {
   "cell_type": "code",
   "execution_count": null,
   "id": "ab894074-4c14-4b58-b37c-0dc1dff2f4c4",
   "metadata": {},
   "outputs": [],
   "source": [
    "# add code and run this cell\n",
    "first_name = \n",
    "last_name = \n",
    "\n",
    "print(first_name, last_name)"
   ]
  },
  {
   "cell_type": "markdown",
   "id": "8854a353-233b-4f2b-9292-48686ff85402",
   "metadata": {},
   "source": [
    "Use Python's type() function to confirm the type of `first_name`:"
   ]
  },
  {
   "cell_type": "code",
   "execution_count": null,
   "id": "41482f8a-fcdd-4ca7-8bc3-ab2edbbea445",
   "metadata": {},
   "outputs": [],
   "source": [
    "# add code here"
   ]
  },
  {
   "cell_type": "markdown",
   "id": "5aa74ff4-6685-45b2-bcc2-2b1f30b6bf27",
   "metadata": {},
   "source": [
    "Discussion: What happens if you add two strings together? "
   ]
  },
  {
   "cell_type": "code",
   "execution_count": null,
   "id": "de491d1e-b42f-4288-a8b5-0e0f789543b0",
   "metadata": {},
   "outputs": [],
   "source": [
    "# run this cell\n",
    "first_name + last_name"
   ]
  },
  {
   "cell_type": "code",
   "execution_count": null,
   "id": "98b6b656-fe31-49a0-a1a1-25d8b77c90b1",
   "metadata": {},
   "outputs": [],
   "source": [
    "# add your answer here"
   ]
  },
  {
   "cell_type": "markdown",
   "id": "ea9b0025-db26-42af-b6e6-0b3953d630c7",
   "metadata": {},
   "source": [
    "**1b) Working with numeric variables**. Assign x and y to two different integer values between 1 and 20. "
   ]
  },
  {
   "cell_type": "code",
   "execution_count": null,
   "id": "e6f8c980-dab7-4009-a947-52c873ec5add",
   "metadata": {},
   "outputs": [],
   "source": [
    "# add code and run this cell\n",
    "x = \n",
    "y = "
   ]
  },
  {
   "cell_type": "markdown",
   "id": "e0770e0a-728b-4841-810d-1559c3fab522",
   "metadata": {},
   "source": [
    "Now we will create two new variables `z` and `a`. `z` is the product of x and y, and `a` will be equal to `z` divided by 7.3: "
   ]
  },
  {
   "cell_type": "code",
   "execution_count": null,
   "id": "2a124847-ad69-4503-adbb-2f8b6c2e5095",
   "metadata": {},
   "outputs": [],
   "source": [
    "# run this code cell\n",
    "z = x * y\n",
    "a = z / 7.3"
   ]
  },
  {
   "cell_type": "markdown",
   "id": "6760657e-2162-4792-95e3-1c974bdef271",
   "metadata": {},
   "source": [
    "Use Python's print() function to show the values of `z` and `a`:"
   ]
  },
  {
   "cell_type": "code",
   "execution_count": null,
   "id": "e4ea746c-a808-4491-9e07-db86c1399736",
   "metadata": {},
   "outputs": [],
   "source": [
    "# add code here"
   ]
  },
  {
   "cell_type": "markdown",
   "id": "7dd3c954-7b29-4a2a-a9c3-8d3f8cfcc2d2",
   "metadata": {},
   "source": [
    "Use Python's type() function to show the type of `z` and `a`: "
   ]
  },
  {
   "cell_type": "code",
   "execution_count": null,
   "id": "f3ac21ee-033a-4055-aa85-0ee91cab026d",
   "metadata": {},
   "outputs": [],
   "source": [
    "# add code here"
   ]
  },
  {
   "cell_type": "markdown",
   "id": "7f965018-8fd9-4231-b38c-f201bf84311f",
   "metadata": {},
   "source": [
    "Use the int() function to convert `a` to an integer. Does the value of `a` change? "
   ]
  },
  {
   "cell_type": "code",
   "execution_count": null,
   "id": "a1c6592c-5f3f-4016-b2af-e3ca9032d7f5",
   "metadata": {},
   "outputs": [],
   "source": [
    "# add code here"
   ]
  },
  {
   "cell_type": "code",
   "execution_count": null,
   "id": "c453dd7d-f4e5-428c-b9a0-453035230f28",
   "metadata": {},
   "outputs": [],
   "source": [
    "# add answer here"
   ]
  },
  {
   "cell_type": "markdown",
   "id": "eae4f370-6873-4bc8-a4f0-f51cdbdadc14",
   "metadata": {},
   "source": [
    "## Problem #2\n",
    "\n",
    "Satellites can determine the temperature of Earth's surface by measuring the amount of electromagnetic radiation being emitted and reflected by the earth. \n",
    "\n",
    "![title](https://raw.githubusercontent.com/fdavenport/CIVE480A6-climate-change-impacts/main/homework/img/modis.png)\n",
    "\n",
    "It turns out that the measurements and calculations performed by these satellites are quite complicated. However, for this problem, you will calculate the temperature of the earth using some of the basic principles of electromagnetic radiation and a hypothetical device that allows you to measure the total electromagnetic radiation emitted from a surface. "
   ]
  },
  {
   "cell_type": "markdown",
   "id": "608b5d1a-6405-425c-920b-586ae5c9c1f1",
   "metadata": {},
   "source": [
    "Recall from class that the amount of electromagnetic radiation emitted by an object is related to it's temperature through the Stefan-Boltzmann Law: \n",
    "\n",
    "$E = \\sigma * T^4$ \n",
    "\n",
    "* E is the total power of electromagnetic radiation emitted in Watts per meter squared \\[$W / m^2$]\n",
    "* $\\sigma = 5.67 x 10^{-8} \\ W / m^2 K^4$ is the Stefan-Boltzmann constant\n",
    "* T is the temperature in Kelvin \\[$K$]"
   ]
  },
  {
   "cell_type": "markdown",
   "id": "bd30d972-2391-4279-8817-a14b788c2f95",
   "metadata": {},
   "source": [
    "**2a)** You use your device to measure the radiation emitted from a point on Earth's surface as $510 \\ W / m^2$. (You can assume your device only measures what is emitted by the earth, so this value does not include any incoming sunlight that is relfected by the earth). Calculate the surface temperature at that location in degrees K. \n",
    "\n",
    "Hint 1: you can use `2e-4` to represent $2x10^{-4}$ in python\\\n",
    "Hint 2: the python syntax to calculate $2^4$ is `2**4`"
   ]
  },
  {
   "cell_type": "code",
   "execution_count": null,
   "id": "0a683bfb-73f3-416f-a24b-89c9822df089",
   "metadata": {},
   "outputs": [],
   "source": [
    "# add code here"
   ]
  },
  {
   "cell_type": "markdown",
   "id": "fd69f8ff-5b7c-420e-a0dc-98c12d6c41c1",
   "metadata": {},
   "source": [
    "**2b)** Now, convert your answer from (2a) to degrees Fahrenheit.\\\n",
    "Recall that $K =$ $^\\circ C + 273$ and $^\\circ C = (^\\circ F - 32)*5/9$. "
   ]
  },
  {
   "cell_type": "code",
   "execution_count": null,
   "id": "f67d3bba-b4fd-48a1-bf9e-35e2c9d32231",
   "metadata": {},
   "outputs": [],
   "source": [
    "# add code here"
   ]
  },
  {
   "cell_type": "markdown",
   "id": "1739d428-189f-4489-87ce-0474007e83bf",
   "metadata": {},
   "source": [
    "**2c)** Your satellite now measures a different point on Earth's surface which is emitting $220 \\ W / m^2$ of electromagnetic radiation. What is the temperature of the Earth's surface at this second location in degree F? "
   ]
  },
  {
   "cell_type": "code",
   "execution_count": null,
   "id": "61c790ef-c234-438e-911e-20a1c1822d65",
   "metadata": {},
   "outputs": [],
   "source": [
    "# add code here"
   ]
  },
  {
   "cell_type": "markdown",
   "id": "dd320b78-acf3-49b2-983a-7c6de863a96a",
   "metadata": {},
   "source": [
    "**2d)** If the temperature of the sun is about 5800 K, how much electromagnetic radiation would your device measure (in $W / m^2$) if pointed at the sun?"
   ]
  },
  {
   "cell_type": "code",
   "execution_count": null,
   "id": "a44e1c6a-3861-446c-89e7-47d542562d2a",
   "metadata": {},
   "outputs": [],
   "source": [
    "# add code here"
   ]
  },
  {
   "cell_type": "markdown",
   "id": "90cb68a6-eeb9-4a57-90e6-0b405664623a",
   "metadata": {},
   "source": [
    "## Problem #3\n",
    "\n",
    "For this problem, you will read in CSV files (\"comma-separated values\") that contain historical observations of the concentration of different greenhouse gases in the atmosphere. You will look at three different gases: \n",
    "* Carbon Dioxide (CO<sub>2</sub>)\n",
    "* Nitrous Oxide (N<sub>2</sub>O)\n",
    "* Methane (CH<sub>4</sub>)\n",
    "\n",
    "The CO2 data comes from measurements at Mauna Loa Observatory and is the same data that we saw in the Keeling Curve in class (for homework, you will analyze the annual average values instead of the monthly values we saw in class). The nitrous oxide and methane measurements come from the National Oceanic and Atmospheric Administration (NOAA) [Global Monitoring Laboratory](https://gml.noaa.gov/ccgg/). \n",
    "\n",
    "The three data files are stored on the course github [homework](https://github.com/fdavenport/CIVE480A6-climate-change-impacts/tree/main/homework) folder, and can be read using these URLs: "
   ]
  },
  {
   "cell_type": "code",
   "execution_count": null,
   "id": "80e7f45a-bf02-4631-be88-80458f38d0a2",
   "metadata": {},
   "outputs": [],
   "source": [
    "# run this code block\n",
    "co2_data_url = \"https://raw.githubusercontent.com/fdavenport/CIVE480A6-climate-change-impacts/main/homework/data/co2_data.csv\"\n",
    "n2o_data_url = \"https://raw.githubusercontent.com/fdavenport/CIVE480A6-climate-change-impacts/main/homework/data/n2o_data.csv\"\n",
    "ch4_data_url = \"https://raw.githubusercontent.com/fdavenport/CIVE480A6-climate-change-impacts/main/homework/data/ch4_data.csv\""
   ]
  },
  {
   "cell_type": "markdown",
   "id": "90e4bc80-8d3e-47ce-a948-7407c337e43c",
   "metadata": {},
   "source": [
    "**3a)** Make a time series graph showing how the concentration of each gas has changed over time. You can plot all three time series on the same graph, or make three different graphs. Your time series should include a line connecting each of the data points. Be sure to add a title to your figure and clearly label the axes (including the units of measurement). "
   ]
  },
  {
   "cell_type": "code",
   "execution_count": null,
   "id": "43636025-fb27-415e-bf45-649483630f8e",
   "metadata": {},
   "outputs": [],
   "source": [
    "# add code here\n",
    "# you can use as many code blocks as needed"
   ]
  },
  {
   "cell_type": "markdown",
   "id": "f5ba2989-07b8-4668-9302-c2530995f98b",
   "metadata": {},
   "source": [
    "**3b)** Print out the concentration of each gas from the most recent year (2023)"
   ]
  },
  {
   "cell_type": "code",
   "execution_count": null,
   "id": "2897b373-0d45-44a0-92e6-3e83eac48090",
   "metadata": {},
   "outputs": [],
   "source": [
    "# add code here\n",
    "# you can add more code blocks as needed"
   ]
  },
  {
   "cell_type": "markdown",
   "id": "735b5217-cffa-4701-8a71-6bf6d068c34a",
   "metadata": {},
   "source": [
    "### **Discussion**: "
   ]
  },
  {
   "cell_type": "markdown",
   "id": "c8bddfa6-155c-43da-927c-5fd33d24f0d4",
   "metadata": {},
   "source": [
    "**3c)** Out of the three gases above, which is most abundant in the atmosphere, and which is least abundant? "
   ]
  },
  {
   "cell_type": "code",
   "execution_count": null,
   "id": "2d651238-1b70-4750-8248-c4f699695dba",
   "metadata": {},
   "outputs": [],
   "source": [
    "# add answer here"
   ]
  },
  {
   "cell_type": "markdown",
   "id": "5af939a1-e8c9-420e-b5d0-0b91a9eb6f4b",
   "metadata": {},
   "source": [
    "**3d)** Describe how the concentration of each gas has changed over time based on your time series graphs. "
   ]
  },
  {
   "cell_type": "code",
   "execution_count": null,
   "id": "d6fbdd40-cbf5-4fd6-8e04-87ca33a98f6a",
   "metadata": {},
   "outputs": [],
   "source": [
    "# add answer here"
   ]
  },
  {
   "cell_type": "markdown",
   "id": "8504d0e9-4fc1-4d7f-97c2-34e8a1caa4aa",
   "metadata": {},
   "source": [
    "**3e)** Read about some of the main activities or industries that emit different types of greenhouse gases. ([This page](https://www.epa.gov/ghgemissions/overview-greenhouse-gases) from the EPA gives an overview, but you can also consult other sources). Describe two activities responsible for increases in the atmospheric concentration of each gas: carbon dioxide, methane and nitrous oxide. "
   ]
  },
  {
   "cell_type": "code",
   "execution_count": null,
   "id": "7c28f17a-92c9-4eea-8f64-6a173caeedf2",
   "metadata": {},
   "outputs": [],
   "source": [
    "# add answer here"
   ]
  }
 ],
 "metadata": {
  "kernelspec": {
   "display_name": "Python 3 (ipykernel)",
   "language": "python",
   "name": "python3"
  },
  "language_info": {
   "codemirror_mode": {
    "name": "ipython",
    "version": 3
   },
   "file_extension": ".py",
   "mimetype": "text/x-python",
   "name": "python",
   "nbconvert_exporter": "python",
   "pygments_lexer": "ipython3",
   "version": "3.12.5"
  }
 },
 "nbformat": 4,
 "nbformat_minor": 5
}
