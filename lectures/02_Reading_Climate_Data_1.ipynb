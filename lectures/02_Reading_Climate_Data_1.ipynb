{
 "cells": [
  {
   "cell_type": "markdown",
   "id": "3b0cadfb-e2fb-45a5-96ab-3ff2ce7b2360",
   "metadata": {},
   "source": [
    "<a href=\"https://colab.research.google.com/github/fdavenport/CIVE480A6-climate-change-impacts/blob/main/lectures/02_Reading_Climate_Data_1.ipynb\" target=\"_parent\"><img src=\"https://colab.research.google.com/assets/colab-badge.svg\" alt=\"Open In Colab\"/></a>"
   ]
  },
  {
   "cell_type": "markdown",
   "id": "6e384325-cbbd-476f-8e90-9a24acf0815f",
   "metadata": {},
   "source": [
    "# CIVE 480A6: Climate Change Risks and Impacts\n",
    "## Week 2: Analyzing Global Temperature Data \n",
    "\n",
    "Today's Objectives: \n",
    "1. Learn how to read climate data (\"csv\" files) in Python\n",
    "2. Learn how to make a time series graph\n",
    "3. Analyze and discuss global temperature data"
   ]
  },
  {
   "cell_type": "markdown",
   "id": "c5fb0471-6994-45c3-809f-02083a2426e1",
   "metadata": {},
   "source": [
    "## Part 1: Reading Comma-Separated Values (\"csv\") files \n",
    "In order to read a csv file, we will load a Python library called \"[Pandas](https://pandas.pydata.org/docs/index.html)\". The information in a csv file is stored in a table format with columns and rows. In Pandas, these tables are called DataFrames.\n",
    "\n",
    "<img src=\"https://raw.githubusercontent.com/fdavenport/CIVE480A6-climate-change-impacts/main/lectures/img/DataFrame.png\" width=\"500\">"
   ]
  },
  {
   "cell_type": "code",
   "execution_count": null,
   "id": "b6a2336f-b0f0-40ee-b9f0-84e3d84dfd95",
   "metadata": {},
   "outputs": [],
   "source": [
    "# load the pandas package\n",
    "\n"
   ]
  },
  {
   "cell_type": "markdown",
   "id": "7ea58530-3270-4fda-8d38-bea1a662b7ff",
   "metadata": {},
   "source": [
    "#### About the global temperature data\n",
    "\n",
    "The csv file we will read contains global temperature information. This data comes from [NOAA's Global Surface Temperature Analysis (NOAAGlobalTemp)](https://www.ncei.noaa.gov/access/monitoring/climate-at-a-glance/global/time-series). \n",
    "\n",
    "This data combines measurements from many different sources including weather stations on land, satellites, and ocean buoys and ship measurements. \n",
    "\n",
    "![title](https://raw.githubusercontent.com/fdavenport/CIVE480A6-climate-change-impacts/main/lectures/img/temperature_measurements.png)\n",
    "\n",
    "The temperature data has already been added to the course github page at the following link: "
   ]
  },
  {
   "cell_type": "code",
   "execution_count": null,
   "id": "2256329f-2b76-41d4-a607-4886fdd94ba6",
   "metadata": {},
   "outputs": [],
   "source": [
    "global_temp_url = \"https://raw.githubusercontent.com/fdavenport/CIVE480A6-climate-change-impacts/main/lectures/data/global_temp.csv\""
   ]
  },
  {
   "cell_type": "code",
   "execution_count": null,
   "id": "cc7a7d80-b489-471c-bc55-447798069ea4",
   "metadata": {},
   "outputs": [],
   "source": [
    "# read in the csv file\n"
   ]
  },
  {
   "cell_type": "code",
   "execution_count": null,
   "id": "1b4dd06b-e461-46fd-a9ca-c862a4009b6b",
   "metadata": {},
   "outputs": [],
   "source": []
  },
  {
   "cell_type": "code",
   "execution_count": null,
   "id": "ef99edbe-037b-4799-a510-092b337e7507",
   "metadata": {},
   "outputs": [],
   "source": []
  },
  {
   "cell_type": "code",
   "execution_count": null,
   "id": "7eb1fb69-0874-4d2e-a660-52b8b3df0758",
   "metadata": {},
   "outputs": [],
   "source": []
  },
  {
   "cell_type": "code",
   "execution_count": null,
   "id": "098903a0-3bf4-41ba-8e4b-d72151b40ed2",
   "metadata": {},
   "outputs": [],
   "source": []
  },
  {
   "cell_type": "code",
   "execution_count": null,
   "id": "a957d702-3905-401d-98e6-eb04bc4430a8",
   "metadata": {},
   "outputs": [],
   "source": []
  },
  {
   "cell_type": "code",
   "execution_count": null,
   "id": "f72330c5-2932-47ee-9d66-cecf623147c1",
   "metadata": {},
   "outputs": [],
   "source": []
  },
  {
   "cell_type": "code",
   "execution_count": null,
   "id": "ac70ac35-8634-43e3-8697-e160a8cd256e",
   "metadata": {},
   "outputs": [],
   "source": []
  },
  {
   "cell_type": "code",
   "execution_count": null,
   "id": "d6669228-1379-4754-9017-c4b2e7cdca4a",
   "metadata": {},
   "outputs": [],
   "source": []
  },
  {
   "cell_type": "markdown",
   "id": "199df2e9-9a21-49a0-aac2-f3c48738edf1",
   "metadata": {},
   "source": [
    "## Part 2: Making a Time Series Graph\n",
    "\n",
    "In order to make nice graphs in Python, we will load another library called \"[Matplotlib](https://matplotlib.org/)\". "
   ]
  },
  {
   "cell_type": "code",
   "execution_count": null,
   "id": "25789fc5-6e97-4b18-8ba0-a2117870382c",
   "metadata": {},
   "outputs": [],
   "source": [
    "# load the matplotlib package \n",
    "\n"
   ]
  },
  {
   "cell_type": "code",
   "execution_count": null,
   "id": "4513cf77-1488-46f6-9055-b8d76ab8dcb4",
   "metadata": {},
   "outputs": [],
   "source": [
    "# create an \"empty\" figure and set of axes for a graph\n",
    "\n"
   ]
  },
  {
   "cell_type": "code",
   "execution_count": null,
   "id": "33ef14cd-93b8-406e-b5c1-247c02255326",
   "metadata": {},
   "outputs": [],
   "source": [
    "# add our data to the figure\n",
    "\n",
    "\n"
   ]
  },
  {
   "cell_type": "markdown",
   "id": "9d26c7be-ac92-4f02-9439-ecaec1de9b45",
   "metadata": {},
   "source": [
    "You can do lots of things to customize your graph! For example:\n",
    "* add markers for each data point (here are [different markers available](https://matplotlib.org/stable/api/markers_api.html))\n",
    "* change colors (here is a [list of colors by name](https://matplotlib.org/stable/gallery/color/named_colors.html))\n",
    "* add axis labels and a title for your figure"
   ]
  },
  {
   "cell_type": "code",
   "execution_count": null,
   "id": "d20fa7fc-5940-4bdc-9a50-024e18959226",
   "metadata": {},
   "outputs": [],
   "source": [
    "# add customization and labels \n",
    "\n",
    "\n"
   ]
  },
  {
   "cell_type": "code",
   "execution_count": null,
   "id": "f138cf5f-1a3c-4d53-8b5f-aca270738bfc",
   "metadata": {},
   "outputs": [],
   "source": []
  },
  {
   "cell_type": "code",
   "execution_count": null,
   "id": "bc9984b7-fb57-4894-b1bb-79803b6a4d70",
   "metadata": {},
   "outputs": [],
   "source": []
  },
  {
   "cell_type": "markdown",
   "id": "6935833d-cd55-4396-8d2a-35ddaa3b3d84",
   "metadata": {},
   "source": [
    "## Part 3: Comparing Land vs. Ocean Temperature Changes\n",
    "Previously, we looked at how temperatures have changed across the global as a whole. Now we will look at how temperatures are changing averaged over all global land area and averaged over all global ocean area. \n",
    "\n",
    "The land and ocean temperature data we will analyze comes from the same [website](https://www.ncei.noaa.gov/access/monitoring/climate-at-a-glance/global/time-series) from the National Oceanic and Atmospheric Administration. The data files have already been added to the course github page at the following locations: "
   ]
  },
  {
   "cell_type": "code",
   "execution_count": null,
   "id": "2ff73dc9-1551-4a7e-8bef-577b1d3e406e",
   "metadata": {},
   "outputs": [],
   "source": [
    "global_land_temp_url = \"https://raw.githubusercontent.com/fdavenport/CIVE480A6-climate-change-impacts/main/lectures/data/global_land_temp.csv\"\n",
    "global_ocean_temp_url = \"https://raw.githubusercontent.com/fdavenport/CIVE480A6-climate-change-impacts/main/lectures/data/global_ocean_temp.csv\""
   ]
  },
  {
   "cell_type": "code",
   "execution_count": null,
   "id": "b766e44e-c64b-4e62-b003-d60792271da2",
   "metadata": {},
   "outputs": [],
   "source": []
  },
  {
   "cell_type": "code",
   "execution_count": null,
   "id": "8a3ca840-9462-495f-b85f-ca89e51161ea",
   "metadata": {},
   "outputs": [],
   "source": []
  },
  {
   "cell_type": "code",
   "execution_count": null,
   "id": "d77f811d-b7a6-4eca-8ff4-b8801ea0f258",
   "metadata": {},
   "outputs": [],
   "source": []
  },
  {
   "cell_type": "code",
   "execution_count": null,
   "id": "64986249-3e21-4781-be62-fe690eed8f12",
   "metadata": {},
   "outputs": [],
   "source": []
  },
  {
   "cell_type": "code",
   "execution_count": null,
   "id": "4f631a9d-7650-483f-bb6e-3bd6f18df4c6",
   "metadata": {},
   "outputs": [],
   "source": []
  }
 ],
 "metadata": {
  "kernelspec": {
   "display_name": "Python 3 (ipykernel)",
   "language": "python",
   "name": "python3"
  },
  "language_info": {
   "codemirror_mode": {
    "name": "ipython",
    "version": 3
   },
   "file_extension": ".py",
   "mimetype": "text/x-python",
   "name": "python",
   "nbconvert_exporter": "python",
   "pygments_lexer": "ipython3",
   "version": "3.12.5"
  }
 },
 "nbformat": 4,
 "nbformat_minor": 5
}
