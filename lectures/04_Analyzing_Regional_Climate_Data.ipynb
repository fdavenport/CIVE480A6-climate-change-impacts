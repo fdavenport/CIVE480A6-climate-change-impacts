{
  "nbformat": 4,
  "nbformat_minor": 0,
  "metadata": {
    "colab": {
      "provenance": [],
      "authorship_tag": "ABX9TyPe+xOoCUWShH7Q/iNmQwIc",
      "include_colab_link": true
    },
    "kernelspec": {
      "name": "python3",
      "display_name": "Python 3"
    },
    "language_info": {
      "name": "python"
    }
  },
  "cells": [
    {
      "cell_type": "markdown",
      "metadata": {
        "id": "view-in-github",
        "colab_type": "text"
      },
      "source": [
        "<a href=\"https://colab.research.google.com/github/fdavenport/CIVE480A6-climate-change-impacts/blob/main/lectures/04_Analyzing_Regional_Climate_Data.ipynb\" target=\"_parent\"><img src=\"https://colab.research.google.com/assets/colab-badge.svg\" alt=\"Open In Colab\"/></a>"
      ]
    },
    {
      "cell_type": "markdown",
      "source": [
        "# CIVE 480A6: Climate Change Risks and Impacts\n",
        "## Week 4: Analyzing Regional Temperature and Precipitation Data\n",
        "\n",
        "Today's Objectives:\n",
        "1. Learn more map-making features: adding points and labels, multiple maps in one figure, etc.\n",
        "2. Learn how to define our own functions.\n",
        "3. Look at data for individual grid cells.\n",
        "4. Calculate and interpret trend lines."
      ],
      "metadata": {
        "id": "KL6cB450IQbk"
      }
    },
    {
      "cell_type": "markdown",
      "source": [
        "## Part 1: More Advanced Map-making\n",
        "\n",
        "Today we will be looking at a different raster dataset called \"[PRISM](https://prism.oregonstate.edu/)\". PRISM stands for \"Parameter-elevation Regressions on Independent Slopes Model\". This dataset combines observations from many different monitoring stations. In today's lecture, we will analyze annual mean temperature and annual precipitation data for Florida.\n",
        "\n",
        "<img src=\"https://raw.githubusercontent.com/fdavenport/CIVE480A6-climate-change-impacts/main/lectures/img/PRISM_tmax_30yr_normal_4kmM2_05.png\" width=\"700\">"
      ],
      "metadata": {
        "id": "A7uC6PcAJG8Z"
      }
    },
    {
      "cell_type": "code",
      "source": [
        "#The data has already been added to the course github page at the following link:\n",
        "prism_FL_temp_url = \"https://raw.githubusercontent.com/fdavenport/CIVE480A6-climate-change-impacts/main/lectures/data/PRISM_FL_annual_temp_1895_2023.nc\"\n",
        "prism_FL_precip_url = \"https://raw.githubusercontent.com/fdavenport/CIVE480A6-climate-change-impacts/main/lectures/data/PRISM_FL_annual_precip_1895_2023.nc\"\n",
        "\n",
        "# This file is too large to read from github, so we will need to download it within colab\n",
        "# using something called \"wget\"\n",
        "!wget {prism_FL_temp_url} -O prism_FL_temp.nc\n",
        "!wget {prism_FL_precip_url} -O prism_FL_precip.nc"
      ],
      "metadata": {
        "id": "RxwV1FRsJNZV"
      },
      "execution_count": null,
      "outputs": []
    },
    {
      "cell_type": "code",
      "source": [
        "# we will use the same packages as last class\n",
        "import xarray as xr\n",
        "import matplotlib.pyplot as plt\n",
        "\n",
        "!pip install cartopy\n",
        "import cartopy.feature as cfeature\n",
        "import cartopy.crs as ccrs"
      ],
      "metadata": {
        "id": "gWBCxTR1L4R7"
      },
      "execution_count": null,
      "outputs": []
    },
    {
      "cell_type": "code",
      "source": [
        "## let's load and inspect the data\n",
        "\n"
      ],
      "metadata": {
        "id": "npxcy_pxMNxF"
      },
      "execution_count": null,
      "outputs": []
    },
    {
      "cell_type": "code",
      "source": [
        "## view the data\n",
        "\n"
      ],
      "metadata": {
        "id": "FoT4ikFtMNq2"
      },
      "execution_count": null,
      "outputs": []
    },
    {
      "cell_type": "code",
      "source": [
        "## make a map of the data\n",
        "\n"
      ],
      "metadata": {
        "id": "JaW9i3UGsVU2"
      },
      "execution_count": null,
      "outputs": []
    },
    {
      "cell_type": "markdown",
      "source": [
        "Let's try making an interactive map so that we can scroll through different years!"
      ],
      "metadata": {
        "id": "sGQZuPqLsO3X"
      }
    },
    {
      "cell_type": "code",
      "source": [
        "## we need to import a new library called plotly\n",
        "import plotly.graph_objects as go\n"
      ],
      "metadata": {
        "id": "Me7SREWUpv9r"
      },
      "execution_count": null,
      "outputs": []
    },
    {
      "cell_type": "code",
      "source": [
        "## let's take a subset of the data to look at for our interactive map\n",
        "\n"
      ],
      "metadata": {
        "id": "DDl_FS1RpvOW"
      },
      "execution_count": null,
      "outputs": []
    },
    {
      "cell_type": "code",
      "source": [
        "## make an interactive plot:\n",
        "\n",
        "# Plotly heatmap with slider\n",
        "# Initialize the figure\n",
        "fig = go.Figure()\n",
        "\n",
        "# Initial heatmap (first time slice)\n",
        "heatmap = go.Heatmap(z=plot_data.isel(year=0).values, x=plot_data['longitude'].values, y=plot_data['latitude'].values,\n",
        "                     colorscale='RdYlBu_r', zmin = 18, zmax = 28)\n",
        "fig.add_trace(heatmap)\n",
        "\n",
        "# Create frames for each time step\n",
        "frames = [go.Frame(data=[go.Heatmap(z=plot_data.isel(year=i).values, x=plot_data['longitude'].values,\n",
        "                                    y=plot_data['latitude'].values,\n",
        "                                    colorscale='RdYlBu_r', zmin = 18, zmax = 28)],\n",
        "                   name=str(i)) for i in range(plot_data.sizes['year'])]\n",
        "\n",
        "fig.frames = frames\n",
        "\n",
        "# Define slider steps\n",
        "slider_steps = [\n",
        "    dict(method=\"animate\",\n",
        "         args=[[str(i)], dict(frame=dict(duration=300, redraw=True), mode=\"immediate\")],\n",
        "         label=f\"Year {plot_data['year'].values[i]:.1f}\")\n",
        "    for i in range(plot_data.sizes['year'])\n",
        "]\n",
        "\n",
        "fig.update_layout(\n",
        "    updatemenus=[dict(type=\"buttons\", showactive=False,\n",
        "                      buttons=[dict(label=\"Play\", method=\"animate\",\n",
        "                                    args=[None, dict(frame=dict(duration=300, redraw=True),\n",
        "                                                     fromcurrent=True, mode='immediate')])])],\n",
        "    sliders=[dict(steps=slider_steps)],\n",
        "    width = 600,\n",
        "    height = 500\n",
        ")\n",
        "\n",
        "fig.show()\n"
      ],
      "metadata": {
        "id": "w5jHcIQxMNjF"
      },
      "execution_count": null,
      "outputs": []
    },
    {
      "cell_type": "markdown",
      "source": [
        "Let's go back to analyzing our data one year at a time. We have two variables (temperature and precipitation), so it might be helpful to see two maps side by side."
      ],
      "metadata": {
        "id": "mwD837M4saHK"
      }
    },
    {
      "cell_type": "code",
      "source": [
        "## two maps side by side\n",
        "\n"
      ],
      "metadata": {
        "id": "4oCM1e7ZRDKG"
      },
      "execution_count": null,
      "outputs": []
    },
    {
      "cell_type": "code",
      "source": [
        "## Make a map of recent temperature and recent annual precipitation\n",
        "\n"
      ],
      "metadata": {
        "id": "TYAYnOoLSZeV"
      },
      "execution_count": null,
      "outputs": []
    },
    {
      "cell_type": "code",
      "source": [
        "## How have temperature and precipitation changed over time?\n",
        "\n"
      ],
      "metadata": {
        "id": "KMINzZa1XfDG"
      },
      "execution_count": null,
      "outputs": []
    },
    {
      "cell_type": "code",
      "source": [],
      "metadata": {
        "id": "SYIyx4ihsUts"
      },
      "execution_count": null,
      "outputs": []
    },
    {
      "cell_type": "markdown",
      "source": [
        "## Part 2: Looking at data for individual grid cells"
      ],
      "metadata": {
        "id": "9LfkWeZqJN4V"
      }
    },
    {
      "cell_type": "code",
      "source": [
        "## Let's look at the data for Tallahassee more closely...\n",
        "\n"
      ],
      "metadata": {
        "id": "NlHZ3eB1JcHR"
      },
      "execution_count": null,
      "outputs": []
    },
    {
      "cell_type": "code",
      "source": [
        "# make a time series graph of the Tallahasee temperature and precipitation data\n",
        "\n"
      ],
      "metadata": {
        "id": "N8EYwa7zXmAO"
      },
      "execution_count": null,
      "outputs": []
    },
    {
      "cell_type": "markdown",
      "source": [
        "## Part 3: Calculating trend lines in climate data\n",
        "\n",
        "Now, we will learn how to quantify the rate of change over time using trend lines (aka linear regression)"
      ],
      "metadata": {
        "id": "FzhZE3zZJNmZ"
      }
    },
    {
      "cell_type": "code",
      "source": [
        "## we will need to import a new library\n",
        "\n"
      ],
      "metadata": {
        "id": "NvAaXzX5mhs7"
      },
      "execution_count": null,
      "outputs": []
    },
    {
      "cell_type": "code",
      "execution_count": null,
      "metadata": {
        "id": "W6G9MIjdINMM"
      },
      "outputs": [],
      "source": [
        "## fit a trendline\n",
        "\n"
      ]
    },
    {
      "cell_type": "code",
      "source": [
        "# add the trendline to our time series graph\n",
        "\n"
      ],
      "metadata": {
        "id": "_MH7juPlYh3t"
      },
      "execution_count": null,
      "outputs": []
    }
  ]
}