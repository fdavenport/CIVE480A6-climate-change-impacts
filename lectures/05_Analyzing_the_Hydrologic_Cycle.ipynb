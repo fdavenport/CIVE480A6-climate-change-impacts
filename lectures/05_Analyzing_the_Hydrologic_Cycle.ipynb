{
  "nbformat": 4,
  "nbformat_minor": 0,
  "metadata": {
    "colab": {
      "provenance": [],
      "authorship_tag": "ABX9TyND7CKO5wJsLXwdgqO2EENh",
      "include_colab_link": true
    },
    "kernelspec": {
      "name": "python3",
      "display_name": "Python 3"
    },
    "language_info": {
      "name": "python"
    }
  },
  "cells": [
    {
      "cell_type": "markdown",
      "metadata": {
        "id": "view-in-github",
        "colab_type": "text"
      },
      "source": [
        "<a href=\"https://colab.research.google.com/github/fdavenport/CIVE480A6-climate-change-impacts/blob/main/lectures/05_Analyzing_the_Hydrologic_Cycle.ipynb\" target=\"_parent\"><img src=\"https://colab.research.google.com/assets/colab-badge.svg\" alt=\"Open In Colab\"/></a>"
      ]
    },
    {
      "cell_type": "markdown",
      "source": [
        "# CIVE 480A6: Climate Change Risks and Impacts\n",
        "## Week 6: Analyzing the Hydrologic Cycle - Precipitation patterns\n",
        "\n",
        "Today's Objectives:\n",
        "1. Analyze daily precipitation patterns to see how precipitation is changing.\n",
        "2. Learn how to calculate summary statistics like seasonal patterns or biggest rain event of the year (annual maximum).\n",
        "3. Learn how to use \"for loops\" in python."
      ],
      "metadata": {
        "id": "KL6cB450IQbk"
      }
    },
    {
      "cell_type": "markdown",
      "source": [
        "## Part 1: Daily Precipitation Data\n",
        "\n",
        "Today we will be looking at daily precipitation data for St. Louis, Missouri (specifically a weather station at the St. Louis airport).\n",
        "\n",
        "This data comes from the [Global Historical climatology Network (GHCN-D)](https://www.ncei.noaa.gov/products/land-based-station/global-historical-climatology-network-daily).  \n",
        "\n",
        "<img src=\"https://raw.githubusercontent.com/fdavenport/CIVE480A6-climate-change-impacts/main/lectures/img/ghcn_precip_station_map.png\" width=\"700\">"
      ],
      "metadata": {
        "id": "A7uC6PcAJG8Z"
      }
    },
    {
      "cell_type": "code",
      "source": [
        "# The data has already been added to the course github page at the following link:\n",
        "\n",
        "stl_precip_data_url = \"https://raw.githubusercontent.com/fdavenport/CIVE480A6-climate-change-impacts/refs/heads/main/lectures/data/USW00013994_precip.csv\"\n"
      ],
      "metadata": {
        "id": "RxwV1FRsJNZV"
      },
      "execution_count": null,
      "outputs": []
    },
    {
      "cell_type": "code",
      "source": [
        "# we are working with tabular data in a .csv file, so we need to import the pandas library\n",
        "\n"
      ],
      "metadata": {
        "id": "78Nkc2J49f-e"
      },
      "execution_count": null,
      "outputs": []
    },
    {
      "cell_type": "code",
      "source": [
        "# read in the data\n",
        "\n"
      ],
      "metadata": {
        "id": "qjUMWJ9r9fkd"
      },
      "execution_count": null,
      "outputs": []
    },
    {
      "cell_type": "code",
      "source": [
        "# add some columns with information about the date\n",
        "\n"
      ],
      "metadata": {
        "id": "Wy9XxIBiYxaX"
      },
      "execution_count": null,
      "outputs": []
    },
    {
      "cell_type": "code",
      "source": [
        "# we will use the same plotting package as before\n",
        "\n",
        "\n"
      ],
      "metadata": {
        "id": "gWBCxTR1L4R7"
      },
      "execution_count": null,
      "outputs": []
    },
    {
      "cell_type": "code",
      "source": [
        "# make a plot of the data\n",
        "\n"
      ],
      "metadata": {
        "id": "_CS2igS0FsEz"
      },
      "execution_count": null,
      "outputs": []
    },
    {
      "cell_type": "code",
      "source": [
        "# get a summary of the data\n"
      ],
      "metadata": {
        "id": "r24JdZFgJ3wv"
      },
      "execution_count": null,
      "outputs": []
    },
    {
      "cell_type": "code",
      "source": [
        "# create a histogram of the daily precipitation data\n"
      ],
      "metadata": {
        "id": "phaOqsnlFr-s"
      },
      "execution_count": null,
      "outputs": []
    },
    {
      "cell_type": "markdown",
      "source": [
        "## Part 2: Seasonal precipitation patterns\n",
        "\n",
        "Next, we are going to calculate the average amount of precipitation during each month of the year, and look at how that has changed over time"
      ],
      "metadata": {
        "id": "dmb4fDNwZjVQ"
      }
    },
    {
      "cell_type": "code",
      "source": [],
      "metadata": {
        "id": "J26cHMInZio8"
      },
      "execution_count": null,
      "outputs": []
    },
    {
      "cell_type": "code",
      "source": [],
      "metadata": {
        "id": "W0zRSXWnYMMc"
      },
      "execution_count": null,
      "outputs": []
    },
    {
      "cell_type": "code",
      "source": [],
      "metadata": {
        "id": "P9IfSuaEYMCp"
      },
      "execution_count": null,
      "outputs": []
    },
    {
      "cell_type": "markdown",
      "source": [
        "## Part 3: Calculating changes in annual statistics\n",
        "\n",
        "Next, we are going to calculate the total amount of precipitation each year and the maximum amount falling on a single day. We will then calculate trends in those metrics."
      ],
      "metadata": {
        "id": "vZ3LbcuEYNZ6"
      }
    },
    {
      "cell_type": "code",
      "source": [],
      "metadata": {
        "id": "RNzLtjhpYMo8"
      },
      "execution_count": null,
      "outputs": []
    },
    {
      "cell_type": "code",
      "source": [],
      "metadata": {
        "id": "KDS6Ga4QYfdR"
      },
      "execution_count": null,
      "outputs": []
    },
    {
      "cell_type": "code",
      "source": [],
      "metadata": {
        "id": "IiYcZLdKYfWm"
      },
      "execution_count": null,
      "outputs": []
    }
  ]
}