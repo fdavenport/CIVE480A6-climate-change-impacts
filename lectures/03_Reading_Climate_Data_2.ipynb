{
  "cells": [
    {
      "cell_type": "markdown",
      "source": [
        "<a target=\"_blank\" href=\"https://colab.research.google.com/github/fdavenport/CIVE480A6-climate-change-impacts/blob/main/lectures/03_Reading_Climate_Data_2.ipynb\">\n",
        "  <img src=\"https://colab.research.google.com/assets/colab-badge.svg\" alt=\"Open In Colab\"/>\n",
        "</a>"
      ],
      "metadata": {
        "id": "Q08IwOV27ReG"
      },
      "id": "Q08IwOV27ReG"
    },
    {
      "cell_type": "markdown",
      "id": "691e54bb-027e-440b-a2fa-74e919cfe244",
      "metadata": {
        "id": "691e54bb-027e-440b-a2fa-74e919cfe244"
      },
      "source": [
        "# CIVE 480A6: Climate Change Risks and Impacts\n",
        "## Week 3: Analyzing Global Temperature Data - Maps edition\n",
        "\n",
        "Today's Objectives:\n",
        "1. Learn how to read gridded climate data (\"netcdf\" files) in Python\n",
        "2. Learn how to create a global map\n",
        "3. Analyze and discuss temperature changes in different regions"
      ]
    },
    {
      "cell_type": "markdown",
      "id": "304bf836-bdbe-475e-b519-56892123ab2a",
      "metadata": {
        "id": "304bf836-bdbe-475e-b519-56892123ab2a"
      },
      "source": [
        "## Part 1: Reading Gridded Climate Data (\"netcdf\" files)\n",
        "Today we will be working with \"netcdf\" files, which are commonly used to store climate data. This type of data is also referred to as raster data.\n",
        "\n",
        "<img src=\"https://raw.githubusercontent.com/fdavenport/CIVE480A6-climate-change-impacts/main/lectures/img/raster.png\" width=\"700\">\n",
        "\n",
        "In order to read the data into Python, we will import a library called \"[Xarray](https://docs.xarray.dev/en/stable/)\"."
      ]
    },
    {
      "cell_type": "code",
      "execution_count": null,
      "id": "fa3b81e1-0326-490f-949d-90cf8d2af3d3",
      "metadata": {
        "id": "fa3b81e1-0326-490f-949d-90cf8d2af3d3"
      },
      "outputs": [],
      "source": []
    },
    {
      "cell_type": "markdown",
      "id": "0d32fb6c-1856-4bd0-a9f0-623c625091ea",
      "metadata": {
        "id": "0d32fb6c-1856-4bd0-a9f0-623c625091ea"
      },
      "source": [
        "We will be reading temperature data from the [NASA Goddard Institute for Space Studies](GISS)(https://data.giss.nasa.gov/gistemp/). Unlike last week where we looked at global average temperature anomlies, this week we will be looking at gridded temperature data so we can analyze how temperature is changing in different regions."
      ]
    },
    {
      "cell_type": "code",
      "execution_count": null,
      "id": "cde7c7a6-4ff0-482f-89d3-5fddd45821c3",
      "metadata": {
        "id": "cde7c7a6-4ff0-482f-89d3-5fddd45821c3"
      },
      "outputs": [],
      "source": [
        "#The temperature data has already been added to the course github page at the following link:\n",
        "gistemp_data_url = \"https://raw.githubusercontent.com/fdavenport/CIVE480A6-climate-change-impacts/main/lectures/data/gistemp_annual_data.nc\"\n",
        "\n",
        "# This file is too large to read from github, so we will need to download it within colab\n",
        "# using something called \"wget\"\n",
        "!wget {gistemp_data_url} -O gistemp_annual_data.nc"
      ]
    },
    {
      "cell_type": "code",
      "execution_count": null,
      "id": "c8568208-6f17-40cf-bd50-69798e4c1a79",
      "metadata": {
        "id": "c8568208-6f17-40cf-bd50-69798e4c1a79"
      },
      "outputs": [],
      "source": [
        "## read in the data file\n",
        "\n"
      ]
    },
    {
      "cell_type": "code",
      "execution_count": null,
      "id": "6a1c10e6-e690-49ec-b70f-0f62bb03eb72",
      "metadata": {
        "id": "6a1c10e6-e690-49ec-b70f-0f62bb03eb72"
      },
      "outputs": [],
      "source": [
        "## take a look at the data\n",
        "\n"
      ]
    },
    {
      "cell_type": "markdown",
      "id": "845f8a29-3c0f-4ce6-a986-59f15faa96f8",
      "metadata": {
        "id": "845f8a29-3c0f-4ce6-a986-59f15faa96f8"
      },
      "source": [
        "This dataset uses latitude and longitude coordinates and has 2 degree x 2 degree resolution.\n",
        "\n",
        "<img src=\"https://raw.githubusercontent.com/fdavenport/CIVE480A6-climate-change-impacts/main/lectures/img/lat_lon.png\" width=\"700\">"
      ]
    },
    {
      "cell_type": "markdown",
      "id": "8abd857a-d43d-477b-aaa9-50d74e855c64",
      "metadata": {
        "id": "8abd857a-d43d-477b-aaa9-50d74e855c64"
      },
      "source": [
        "<img src=\"https://raw.githubusercontent.com/fdavenport/CIVE480A6-climate-change-impacts/main/lectures/img/Equirectangular_projection.jpg\" width=\"700\">"
      ]
    },
    {
      "cell_type": "code",
      "source": [
        "# select a specific time period from the data\n",
        "\n",
        "\n"
      ],
      "metadata": {
        "id": "5YGdHkkdTCSS"
      },
      "id": "5YGdHkkdTCSS",
      "execution_count": null,
      "outputs": []
    },
    {
      "cell_type": "code",
      "source": [
        "# select a specific location from the data\n",
        "\n",
        "\n"
      ],
      "metadata": {
        "id": "f1d_gK0BTCIC"
      },
      "id": "f1d_gK0BTCIC",
      "execution_count": null,
      "outputs": []
    },
    {
      "cell_type": "code",
      "source": [
        "# select a time range or spatial range from the data\n",
        "\n",
        "\n"
      ],
      "metadata": {
        "id": "24Z3mC4QTB-P"
      },
      "id": "24Z3mC4QTB-P",
      "execution_count": null,
      "outputs": []
    },
    {
      "cell_type": "markdown",
      "id": "378c1344-bbfe-4df2-b264-c11bf47a6ab5",
      "metadata": {
        "id": "378c1344-bbfe-4df2-b264-c11bf47a6ab5"
      },
      "source": [
        "## Part 2: Making a Map\n",
        "\n",
        "Now we will make a map of the data so that we can take a closer look at it. We will use the matplotlib library again."
      ]
    },
    {
      "cell_type": "code",
      "execution_count": null,
      "id": "9b7e1e17-e0d8-4556-ba78-d82dde30e370",
      "metadata": {
        "id": "9b7e1e17-e0d8-4556-ba78-d82dde30e370"
      },
      "outputs": [],
      "source": [
        "# load the matplotlib library\n",
        "\n"
      ]
    },
    {
      "cell_type": "code",
      "execution_count": null,
      "id": "00e5c2ec-6c9e-4d9f-a3ea-bf11b5eab196",
      "metadata": {
        "id": "00e5c2ec-6c9e-4d9f-a3ea-bf11b5eab196"
      },
      "outputs": [],
      "source": [
        "# select coordinate data to use for the map\n",
        "\n"
      ]
    },
    {
      "cell_type": "code",
      "execution_count": null,
      "id": "9544f80d-1015-4f5b-8fa6-ba4f49ec7440",
      "metadata": {
        "id": "9544f80d-1015-4f5b-8fa6-ba4f49ec7440"
      },
      "outputs": [],
      "source": [
        "# create an empty figure and axis and add the data\n",
        "\n"
      ]
    },
    {
      "cell_type": "markdown",
      "id": "7ac64da2-ba91-44bf-9951-735efbe7a91f",
      "metadata": {
        "id": "7ac64da2-ba91-44bf-9951-735efbe7a91f"
      },
      "source": [
        "Let's add some labeling and change the colors of the map. You can find different colors available here: https://matplotlib.org/stable/gallery/color/colormap_reference.html\n"
      ]
    },
    {
      "cell_type": "code",
      "execution_count": null,
      "id": "324a4085-8551-4ef6-a75c-1c9a12677b69",
      "metadata": {
        "id": "324a4085-8551-4ef6-a75c-1c9a12677b69"
      },
      "outputs": [],
      "source": [
        "# customize the colors and labels of the map\n",
        "\n",
        "\n",
        "\n",
        "\n"
      ]
    },
    {
      "cell_type": "markdown",
      "id": "6d53f9a1-d967-43e9-843f-1a04a520573f",
      "metadata": {
        "id": "6d53f9a1-d967-43e9-843f-1a04a520573f"
      },
      "source": [
        "In order to make the map easier to read and more visually appealing, we will also load some functions from a library called [Cartopy](https://scitools.org.uk/cartopy/docs/latest/):"
      ]
    },
    {
      "cell_type": "code",
      "execution_count": null,
      "id": "9ef6751b-653d-44c9-8dcb-85f13546609e",
      "metadata": {
        "scrolled": true,
        "id": "9ef6751b-653d-44c9-8dcb-85f13546609e"
      },
      "outputs": [],
      "source": [
        "## the cartopy library needs to be installed before we can import it\n",
        "!pip install cartopy"
      ]
    },
    {
      "cell_type": "code",
      "execution_count": null,
      "id": "1244bfc6-9491-42be-a1c5-3a6b14c4e0de",
      "metadata": {
        "id": "1244bfc6-9491-42be-a1c5-3a6b14c4e0de"
      },
      "outputs": [],
      "source": [
        "## load some functions from the cartopy library\n",
        "\n"
      ]
    },
    {
      "cell_type": "markdown",
      "id": "444b6318-ad4b-486a-9b08-e61c5d7da427",
      "metadata": {
        "id": "444b6318-ad4b-486a-9b08-e61c5d7da427"
      },
      "source": [
        "Now we can add geographic boundaries to our map to help with visualization. To do that though, we need to be more explicit about the coordinate reference systems that we are using.\n",
        "\n",
        "The coordinate reference systems (CRS) defines how the three-dimensional globe should be displayed (or \"projected\") onto a two-dimensional map.\n",
        "\n",
        "<img src=\"https://raw.githubusercontent.com/fdavenport/CIVE480A6-climate-change-impacts/main/lectures/img/spatial-projections.png\" width=\"500\">"
      ]
    },
    {
      "cell_type": "code",
      "execution_count": null,
      "id": "196755f7-443b-4c52-a488-97379f535a5e",
      "metadata": {
        "id": "196755f7-443b-4c52-a488-97379f535a5e"
      },
      "outputs": [],
      "source": [
        "## create a map with the projection defined and with coastlines added\n",
        "\n"
      ]
    },
    {
      "cell_type": "markdown",
      "id": "dc3a65e4-8bb4-454c-9ae9-69f95e97fc94",
      "metadata": {
        "id": "dc3a65e4-8bb4-454c-9ae9-69f95e97fc94"
      },
      "source": [
        "## Part 3: Analyzing Temperature Changes"
      ]
    },
    {
      "cell_type": "code",
      "execution_count": null,
      "id": "c0dd6523-60fb-4bec-b6bb-1cb88f91ce37",
      "metadata": {
        "id": "c0dd6523-60fb-4bec-b6bb-1cb88f91ce37"
      },
      "outputs": [],
      "source": []
    },
    {
      "cell_type": "code",
      "execution_count": null,
      "id": "e8f6d52a-4728-4d03-86a8-2b7ca7c48cb9",
      "metadata": {
        "id": "e8f6d52a-4728-4d03-86a8-2b7ca7c48cb9"
      },
      "outputs": [],
      "source": []
    },
    {
      "cell_type": "code",
      "execution_count": null,
      "id": "97a312b1-9034-468f-9657-84b48a27281a",
      "metadata": {
        "id": "97a312b1-9034-468f-9657-84b48a27281a"
      },
      "outputs": [],
      "source": []
    },
    {
      "cell_type": "code",
      "execution_count": null,
      "id": "b5085221-d489-46db-b6f8-d99f62e59124",
      "metadata": {
        "id": "b5085221-d489-46db-b6f8-d99f62e59124"
      },
      "outputs": [],
      "source": []
    }
  ],
  "metadata": {
    "kernelspec": {
      "display_name": "Python 3 (ipykernel)",
      "language": "python",
      "name": "python3"
    },
    "language_info": {
      "codemirror_mode": {
        "name": "ipython",
        "version": 3
      },
      "file_extension": ".py",
      "mimetype": "text/x-python",
      "name": "python",
      "nbconvert_exporter": "python",
      "pygments_lexer": "ipython3",
      "version": "3.12.5"
    },
    "colab": {
      "provenance": []
    }
  },
  "nbformat": 4,
  "nbformat_minor": 5
}