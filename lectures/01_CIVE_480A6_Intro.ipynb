{
  "nbformat": 4,
  "nbformat_minor": 0,
  "metadata": {
    "colab": {
      "provenance": [],
      "include_colab_link": true
    },
    "kernelspec": {
      "name": "python3",
      "display_name": "Python 3"
    },
    "language_info": {
      "name": "python"
    }
  },
  "cells": [
    {
      "cell_type": "markdown",
      "metadata": {
        "id": "view-in-github",
        "colab_type": "text"
      },
      "source": [
        "<a href=\"https://colab.research.google.com/github/fdavenport/CIVE480A6-climate-change-impacts/blob/main/CIVE_480A6_Intro.ipynb\" target=\"_parent\"><img src=\"https://colab.research.google.com/assets/colab-badge.svg\" alt=\"Open In Colab\"/></a>"
      ]
    },
    {
      "cell_type": "markdown",
      "source": [
        "## CIVE 480A6: Climate Change Risks and Impacts\n",
        "### Intro to Python, Colab, and Jupyter Notebooks"
      ],
      "metadata": {
        "id": "P3K_SMxypIX1"
      }
    },
    {
      "cell_type": "code",
      "execution_count": null,
      "metadata": {
        "id": "b_4c29nwVaq2"
      },
      "outputs": [],
      "source": [
        "# This is a code cell for executing calculations\n",
        "# You can add comments to this cell using a # symbol. (Anything after the # will be ignored)\n",
        "\n",
        "# after you \"run\" the cell, the output of your code cell will appear below the cell\n",
        "\n",
        "2+1"
      ]
    },
    {
      "cell_type": "code",
      "source": [
        "# Try typing your own calculation and running this cell:\n"
      ],
      "metadata": {
        "id": "_eWLNTgxpIHX"
      },
      "execution_count": null,
      "outputs": []
    },
    {
      "cell_type": "markdown",
      "source": [
        "This is a text cell. You can use text formatting like **bold**, *italic*, add images, write equations ($y = mx + b$), etc.\n"
      ],
      "metadata": {
        "id": "ec2JPHJequmZ"
      }
    },
    {
      "cell_type": "code",
      "source": [],
      "metadata": {
        "id": "YFV_KHY8sDlq"
      },
      "execution_count": null,
      "outputs": []
    }
  ]
}
