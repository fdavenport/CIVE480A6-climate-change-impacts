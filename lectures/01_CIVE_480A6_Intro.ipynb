{
 "cells": [
  {
   "cell_type": "markdown",
   "metadata": {
    "colab_type": "text",
    "id": "view-in-github"
   },
   "source": [
    "<a href=\"https://colab.research.google.com/github/fdavenport/CIVE480A6-climate-change-impacts/blob/main/lectures/01_CIVE_480A6_Intro.ipynb\" target=\"_parent\"><img src=\"https://colab.research.google.com/assets/colab-badge.svg\" alt=\"Open In Colab\"/></a>"
   ]
  },
  {
   "cell_type": "markdown",
   "metadata": {
    "id": "P3K_SMxypIX1"
   },
   "source": [
    "## CIVE 480A6: Climate Change Risks and Impacts\n",
    "### Intro to Python, Colab, and Jupyter Notebooks"
   ]
  },
  {
   "cell_type": "code",
   "execution_count": 1,
   "metadata": {
    "colab": {
     "base_uri": "https://localhost:8080/"
    },
    "id": "b_4c29nwVaq2",
    "outputId": "77b1cf6f-a8d8-4cc3-d338-d2c79554448d"
   },
   "outputs": [
    {
     "data": {
      "text/plain": [
       "3"
      ]
     },
     "execution_count": 1,
     "metadata": {},
     "output_type": "execute_result"
    }
   ],
   "source": [
    "# This is a code cell for executing calculations\n",
    "# You can add comments to this cell using a # symbol. (Anything after the # will be ignored)\n",
    "\n",
    "# after you \"run\" the cell, the output of your code cell will appear below the cell\n",
    "\n",
    "2+1"
   ]
  },
  {
   "cell_type": "code",
   "execution_count": 2,
   "metadata": {
    "id": "_eWLNTgxpIHX"
   },
   "outputs": [],
   "source": [
    "# Try typing your own calculation and running this cell:\n"
   ]
  },
  {
   "cell_type": "markdown",
   "metadata": {
    "id": "ec2JPHJequmZ"
   },
   "source": [
    "This is a text cell. You can use text formatting like **bold**, *italic*, add images, write equations ($y = mx + b$), etc.\n"
   ]
  },
  {
   "cell_type": "code",
   "execution_count": 3,
   "metadata": {
    "id": "YFV_KHY8sDlq"
   },
   "outputs": [],
   "source": [
    "# assign a variable with today's temperature forecast\n",
    "temperature = 95"
   ]
  },
  {
   "cell_type": "code",
   "execution_count": 4,
   "metadata": {
    "colab": {
     "base_uri": "https://localhost:8080/"
    },
    "id": "fNOKBGaTYaof",
    "outputId": "0fdf52d0-fcb8-4736-d2fe-ee52f7580a3c"
   },
   "outputs": [
    {
     "name": "stdout",
     "output_type": "stream",
     "text": [
      "35.0\n"
     ]
    }
   ],
   "source": [
    "# practice calculations to convert the temperature value to celsius\n",
    "temperature_celsius = (temperature - 32) * (5/9)\n",
    "\n",
    "print(temperature_celsius)"
   ]
  },
  {
   "cell_type": "code",
   "execution_count": 5,
   "metadata": {
    "colab": {
     "base_uri": "https://localhost:8080/"
    },
    "id": "M28ijKSNYl30",
    "outputId": "1bfc3975-713a-4eca-f599-06d74f40debb"
   },
   "outputs": [
    {
     "data": {
      "text/plain": [
       "int"
      ]
     },
     "execution_count": 5,
     "metadata": {},
     "output_type": "execute_result"
    }
   ],
   "source": [
    "# there are different variable types\n",
    "\n",
    "# integer type\n",
    "type(temperature)"
   ]
  },
  {
   "cell_type": "code",
   "execution_count": 6,
   "metadata": {
    "colab": {
     "base_uri": "https://localhost:8080/"
    },
    "id": "o7AObsu7YvJg",
    "outputId": "7c9771ad-5e44-4f32-b1fa-8f16e7073174"
   },
   "outputs": [
    {
     "data": {
      "text/plain": [
       "float"
      ]
     },
     "execution_count": 6,
     "metadata": {},
     "output_type": "execute_result"
    }
   ],
   "source": [
    "# float type (floats are decimal values)\n",
    "type(temperature_celsius)"
   ]
  },
  {
   "cell_type": "code",
   "execution_count": 7,
   "metadata": {
    "colab": {
     "base_uri": "https://localhost:8080/"
    },
    "id": "bc4Czar6Y2J5",
    "outputId": "586a4caa-950b-4326-cbab-c6c45d463efd"
   },
   "outputs": [
    {
     "data": {
      "text/plain": [
       "str"
      ]
     },
     "execution_count": 7,
     "metadata": {},
     "output_type": "execute_result"
    }
   ],
   "source": [
    "# another type of variable is a string. Strings are made of alphanumeric characters and symbols\n",
    "temperature_location = \"Fort Collins\"\n",
    "\n",
    "type(temperature_location)"
   ]
  },
  {
   "cell_type": "code",
   "execution_count": 8,
   "metadata": {
    "colab": {
     "base_uri": "https://localhost:8080/"
    },
    "id": "mUhdXDRGZCUU",
    "outputId": "b3b828ad-91d5-4a9b-fa16-330f8f458551"
   },
   "outputs": [
    {
     "data": {
      "text/plain": [
       "95.0"
      ]
     },
     "execution_count": 8,
     "metadata": {},
     "output_type": "execute_result"
    }
   ],
   "source": [
    "# You can convert the variable type if needed\n",
    "float(temperature)"
   ]
  },
  {
   "cell_type": "code",
   "execution_count": 9,
   "metadata": {
    "colab": {
     "base_uri": "https://localhost:8080/",
     "height": 56
    },
    "id": "vlg1rBohZLEh",
    "outputId": "fe0bf0d1-c439-4bb4-b3b5-c9294ec1add8"
   },
   "outputs": [
    {
     "data": {
      "application/vnd.google.colaboratory.intrinsic+json": {
       "type": "string"
      },
      "text/plain": [
       "'95'"
      ]
     },
     "execution_count": 9,
     "metadata": {},
     "output_type": "execute_result"
    }
   ],
   "source": [
    "str(temperature)"
   ]
  },
  {
   "cell_type": "code",
   "execution_count": 10,
   "metadata": {
    "colab": {
     "base_uri": "https://localhost:8080/"
    },
    "id": "Kt-BeqWzZM2j",
    "outputId": "c3b38c82-d89e-4632-be9a-995aace54a97"
   },
   "outputs": [
    {
     "name": "stdout",
     "output_type": "stream",
     "text": [
      "Today's temperature forecast in Fort Collins is 95 degrees F\n"
     ]
    }
   ],
   "source": [
    "# here's an example of combining different variable types\n",
    "print(\"Today's temperature forecast in \" + temperature_location + \" is \" + str(temperature) + \" degrees F\")"
   ]
  },
  {
   "cell_type": "code",
   "execution_count": 11,
   "metadata": {
    "id": "XRuZQ4jEZX6H"
   },
   "outputs": [],
   "source": [
    "# if you want to learn more about a function and how it works, you can use the built in documentation\n",
    "??max"
   ]
  },
  {
   "cell_type": "code",
   "execution_count": 12,
   "metadata": {
    "colab": {
     "base_uri": "https://localhost:8080/"
    },
    "id": "tF1dYGSEZrmz",
    "outputId": "9073d2c1-ba7f-4dde-abac-25297896facd"
   },
   "outputs": [
    {
     "name": "stdout",
     "output_type": "stream",
     "text": [
      "Help on built-in function max in module builtins:\n",
      "\n",
      "max(...)\n",
      "    max(iterable, *[, default=obj, key=func]) -> value\n",
      "    max(arg1, arg2, *args, *[, key=func]) -> value\n",
      "    \n",
      "    With a single iterable argument, return its biggest item. The\n",
      "    default keyword-only argument specifies an object to return if\n",
      "    the provided iterable is empty.\n",
      "    With two or more arguments, return the largest argument.\n",
      "\n"
     ]
    }
   ],
   "source": [
    "# or\n",
    "help(max)"
   ]
  },
  {
   "cell_type": "code",
   "execution_count": 12,
   "metadata": {
    "id": "nVikEvysaEFw"
   },
   "outputs": [],
   "source": []
  }
 ],
 "metadata": {
  "colab": {
   "include_colab_link": true,
   "provenance": []
  },
  "kernelspec": {
   "display_name": "Python 3 (ipykernel)",
   "language": "python",
   "name": "python3"
  },
  "language_info": {
   "codemirror_mode": {
    "name": "ipython",
    "version": 3
   },
   "file_extension": ".py",
   "mimetype": "text/x-python",
   "name": "python",
   "nbconvert_exporter": "python",
   "pygments_lexer": "ipython3",
   "version": "3.12.5"
  }
 },
 "nbformat": 4,
 "nbformat_minor": 4
}
