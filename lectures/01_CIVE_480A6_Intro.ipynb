{
  "nbformat": 4,
  "nbformat_minor": 0,
  "metadata": {
    "colab": {
      "provenance": [],
      "include_colab_link": true
    },
    "kernelspec": {
      "name": "python3",
      "display_name": "Python 3"
    },
    "language_info": {
      "name": "python"
    }
  },
  "cells": [
    {
      "cell_type": "markdown",
      "metadata": {
        "id": "view-in-github",
        "colab_type": "text"
      },
      "source": [
        "<a href=\"https://colab.research.google.com/github/fdavenport/CIVE480A6-climate-change-impacts/blob/main/lectures/01_CIVE_480A6_Intro.ipynb\" target=\"_parent\"><img src=\"https://colab.research.google.com/assets/colab-badge.svg\" alt=\"Open In Colab\"/></a>"
      ]
    },
    {
      "cell_type": "markdown",
      "source": [
        "## CIVE 480A6: Climate Change Risks and Impacts\n",
        "### Intro to Python, Colab, and Jupyter Notebooks"
      ],
      "metadata": {
        "id": "P3K_SMxypIX1"
      }
    },
    {
      "cell_type": "code",
      "execution_count": 1,
      "metadata": {
        "id": "b_4c29nwVaq2",
        "outputId": "77b1cf6f-a8d8-4cc3-d338-d2c79554448d",
        "colab": {
          "base_uri": "https://localhost:8080/"
        }
      },
      "outputs": [
        {
          "output_type": "execute_result",
          "data": {
            "text/plain": [
              "3"
            ]
          },
          "metadata": {},
          "execution_count": 1
        }
      ],
      "source": [
        "# This is a code cell for executing calculations\n",
        "# You can add comments to this cell using a # symbol. (Anything after the # will be ignored)\n",
        "\n",
        "# after you \"run\" the cell, the output of your code cell will appear below the cell\n",
        "\n",
        "2+1"
      ]
    },
    {
      "cell_type": "code",
      "source": [
        "# Try typing your own calculation and running this cell:\n"
      ],
      "metadata": {
        "id": "_eWLNTgxpIHX"
      },
      "execution_count": 2,
      "outputs": []
    },
    {
      "cell_type": "markdown",
      "source": [
        "This is a text cell. You can use text formatting like **bold**, *italic*, add images, write equations ($y = mx + b$), etc.\n"
      ],
      "metadata": {
        "id": "ec2JPHJequmZ"
      }
    },
    {
      "cell_type": "code",
      "source": [
        "# assign a variable with today's temperature forecast\n",
        "temperature = 95"
      ],
      "metadata": {
        "id": "YFV_KHY8sDlq"
      },
      "execution_count": 3,
      "outputs": []
    },
    {
      "cell_type": "code",
      "source": [
        "# practice calculations to convert the temperature value to celsius\n",
        "temperature_celsius = (temperature - 32) * (5/9)\n",
        "\n",
        "print(temperature_celsius)"
      ],
      "metadata": {
        "id": "fNOKBGaTYaof",
        "outputId": "0fdf52d0-fcb8-4736-d2fe-ee52f7580a3c",
        "colab": {
          "base_uri": "https://localhost:8080/"
        }
      },
      "execution_count": 4,
      "outputs": [
        {
          "output_type": "stream",
          "name": "stdout",
          "text": [
            "35.0\n"
          ]
        }
      ]
    },
    {
      "cell_type": "code",
      "source": [
        "# there are different variable types\n",
        "\n",
        "# integer type\n",
        "type(temperature)"
      ],
      "metadata": {
        "id": "M28ijKSNYl30",
        "outputId": "1bfc3975-713a-4eca-f599-06d74f40debb",
        "colab": {
          "base_uri": "https://localhost:8080/"
        }
      },
      "execution_count": 5,
      "outputs": [
        {
          "output_type": "execute_result",
          "data": {
            "text/plain": [
              "int"
            ]
          },
          "metadata": {},
          "execution_count": 5
        }
      ]
    },
    {
      "cell_type": "code",
      "source": [
        "# float type (floats are decimal values)\n",
        "type(temperature_celsius)"
      ],
      "metadata": {
        "id": "o7AObsu7YvJg",
        "outputId": "7c9771ad-5e44-4f32-b1fa-8f16e7073174",
        "colab": {
          "base_uri": "https://localhost:8080/"
        }
      },
      "execution_count": 6,
      "outputs": [
        {
          "output_type": "execute_result",
          "data": {
            "text/plain": [
              "float"
            ]
          },
          "metadata": {},
          "execution_count": 6
        }
      ]
    },
    {
      "cell_type": "code",
      "source": [
        "# another type of variable is a string. Strings are made of alphanumeric characters and symbols\n",
        "temperature_location = \"Fort Collins\"\n",
        "\n",
        "type(temperature_location)"
      ],
      "metadata": {
        "id": "bc4Czar6Y2J5",
        "outputId": "586a4caa-950b-4326-cbab-c6c45d463efd",
        "colab": {
          "base_uri": "https://localhost:8080/"
        }
      },
      "execution_count": 7,
      "outputs": [
        {
          "output_type": "execute_result",
          "data": {
            "text/plain": [
              "str"
            ]
          },
          "metadata": {},
          "execution_count": 7
        }
      ]
    },
    {
      "cell_type": "code",
      "source": [
        "# You can convert the variable type if needed\n",
        "float(temperature)"
      ],
      "metadata": {
        "id": "mUhdXDRGZCUU",
        "outputId": "b3b828ad-91d5-4a9b-fa16-330f8f458551",
        "colab": {
          "base_uri": "https://localhost:8080/"
        }
      },
      "execution_count": 8,
      "outputs": [
        {
          "output_type": "execute_result",
          "data": {
            "text/plain": [
              "95.0"
            ]
          },
          "metadata": {},
          "execution_count": 8
        }
      ]
    },
    {
      "cell_type": "code",
      "source": [
        "str(temperature)"
      ],
      "metadata": {
        "id": "vlg1rBohZLEh",
        "outputId": "fe0bf0d1-c439-4bb4-b3b5-c9294ec1add8",
        "colab": {
          "base_uri": "https://localhost:8080/",
          "height": 56
        }
      },
      "execution_count": 9,
      "outputs": [
        {
          "output_type": "execute_result",
          "data": {
            "text/plain": [
              "'95'"
            ],
            "application/vnd.google.colaboratory.intrinsic+json": {
              "type": "string"
            }
          },
          "metadata": {},
          "execution_count": 9
        }
      ]
    },
    {
      "cell_type": "code",
      "source": [
        "# here's an example of combining different variable types\n",
        "print(\"Today's temperature forecast in \" + temperature_location + \" is \" + str(temperature) + \" degrees F\")"
      ],
      "metadata": {
        "id": "Kt-BeqWzZM2j",
        "outputId": "c3b38c82-d89e-4632-be9a-995aace54a97",
        "colab": {
          "base_uri": "https://localhost:8080/"
        }
      },
      "execution_count": 10,
      "outputs": [
        {
          "output_type": "stream",
          "name": "stdout",
          "text": [
            "Today's temperature forecast in Fort Collins is 95 degrees F\n"
          ]
        }
      ]
    },
    {
      "cell_type": "code",
      "source": [
        "# if you want to learn more about a function and how it works, you can use the built in documentation\n",
        "??max"
      ],
      "metadata": {
        "id": "XRuZQ4jEZX6H"
      },
      "execution_count": 11,
      "outputs": []
    },
    {
      "cell_type": "code",
      "source": [
        "# or\n",
        "help(max)"
      ],
      "metadata": {
        "id": "tF1dYGSEZrmz",
        "outputId": "9073d2c1-ba7f-4dde-abac-25297896facd",
        "colab": {
          "base_uri": "https://localhost:8080/"
        }
      },
      "execution_count": 12,
      "outputs": [
        {
          "output_type": "stream",
          "name": "stdout",
          "text": [
            "Help on built-in function max in module builtins:\n",
            "\n",
            "max(...)\n",
            "    max(iterable, *[, default=obj, key=func]) -> value\n",
            "    max(arg1, arg2, *args, *[, key=func]) -> value\n",
            "    \n",
            "    With a single iterable argument, return its biggest item. The\n",
            "    default keyword-only argument specifies an object to return if\n",
            "    the provided iterable is empty.\n",
            "    With two or more arguments, return the largest argument.\n",
            "\n"
          ]
        }
      ]
    },
    {
      "cell_type": "code",
      "source": [],
      "metadata": {
        "id": "nVikEvysaEFw"
      },
      "execution_count": 12,
      "outputs": []
    }
  ]
}