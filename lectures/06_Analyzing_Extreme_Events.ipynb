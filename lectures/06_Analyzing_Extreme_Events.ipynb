{
  "nbformat": 4,
  "nbformat_minor": 0,
  "metadata": {
    "colab": {
      "provenance": [],
      "include_colab_link": true
    },
    "kernelspec": {
      "name": "python3",
      "display_name": "Python 3"
    },
    "language_info": {
      "name": "python"
    }
  },
  "cells": [
    {
      "cell_type": "markdown",
      "metadata": {
        "id": "view-in-github",
        "colab_type": "text"
      },
      "source": [
        "<a href=\"https://colab.research.google.com/github/fdavenport/CIVE480A6-climate-change-impacts/blob/main/lectures/06_Analyzing_Extreme_Events.ipynb\" target=\"_parent\"><img src=\"https://colab.research.google.com/assets/colab-badge.svg\" alt=\"Open In Colab\"/></a>"
      ]
    },
    {
      "cell_type": "markdown",
      "source": [
        "# CIVE 480A6: Climate Change Risks and Impacts\n",
        "## Week 9: Analyzing Extreme Events\n",
        "\n",
        "This week's Objectives:\n",
        "1. Analyze the distribution of daily maximum temperature.\n",
        "2. Calculate how often daily temperatures exceed 90F and 100F.\n",
        "3. Calculate \"block maxima\" (in this case, the hottest day of the year).\n",
        "3. Learn how to fit a Generalized Extreme Value (GEV) distribution to the time series of block maxima."
      ],
      "metadata": {
        "id": "KL6cB450IQbk"
      }
    },
    {
      "cell_type": "markdown",
      "source": [
        "## Part 1: Daily Temperature Data\n",
        "\n",
        "Today we will be looking at daily temperature data. We will again be using data from the [Global Historical climatology Network (GHCN-D)](https://www.ncei.noaa.gov/products/land-based-station/global-historical-climatology-network-daily).  \n",
        "\n",
        "We will be looking specifically at data from a weather station near Atlanta, Georgia. The data file contains the high and low (maximum and minimum) temperatures for each day.\n",
        "\n",
        "<img src=\"https://raw.githubusercontent.com/fdavenport/CIVE480A6-climate-change-impacts/main/lectures/img/atlanta_map.png\" width=\"400\">\n",
        "<img src=\"https://raw.githubusercontent.com/fdavenport/CIVE480A6-climate-change-impacts/main/lectures/img/heatwave.jpg\" width=\"300\">"
      ],
      "metadata": {
        "id": "A7uC6PcAJG8Z"
      }
    },
    {
      "cell_type": "code",
      "source": [
        "# The data has already been added to the course github page at the following link:\n",
        "\n",
        "atl_temp_data_url = \"https://raw.githubusercontent.com/fdavenport/CIVE480A6-climate-change-impacts/refs/heads/main/lectures/data/USW00013874_atlanta_temp.csv\"\n"
      ],
      "metadata": {
        "id": "RxwV1FRsJNZV"
      },
      "execution_count": null,
      "outputs": []
    },
    {
      "cell_type": "code",
      "source": [
        "# we are working with tabular data in a .csv file, so we need to import the pandas library\n",
        "\n"
      ],
      "metadata": {
        "id": "78Nkc2J49f-e"
      },
      "execution_count": null,
      "outputs": []
    },
    {
      "cell_type": "code",
      "source": [
        "# read in the data\n",
        ""
      ],
      "metadata": {
        "id": "qjUMWJ9r9fkd"
      },
      "execution_count": null,
      "outputs": []
    },
    {
      "cell_type": "code",
      "source": [
        "# look at the data\n"
      ],
      "metadata": {
        "id": "SKjRZFUknw5d"
      },
      "execution_count": null,
      "outputs": []
    },
    {
      "cell_type": "code",
      "source": [
        "# add Date information\n"
      ],
      "metadata": {
        "id": "s9k_JPAmnC-2"
      },
      "execution_count": null,
      "outputs": []
    },
    {
      "cell_type": "code",
      "source": [
        "# get a summary of the data\n"
      ],
      "metadata": {
        "id": "r24JdZFgJ3wv"
      },
      "execution_count": null,
      "outputs": []
    },
    {
      "cell_type": "code",
      "source": [
        "# import matplotlib.pyplot to make graphs\n",
        "\n"
      ],
      "metadata": {
        "id": "gWBCxTR1L4R7"
      },
      "execution_count": null,
      "outputs": []
    },
    {
      "cell_type": "code",
      "source": [
        "# make a plot of the data\n",
        "\n"
      ],
      "metadata": {
        "id": "_CS2igS0FsEz"
      },
      "execution_count": null,
      "outputs": []
    },
    {
      "cell_type": "code",
      "source": [
        "# create a histogram of the daily temperature data\n",
        "\n"
      ],
      "metadata": {
        "id": "phaOqsnlFr-s"
      },
      "execution_count": null,
      "outputs": []
    },
    {
      "cell_type": "markdown",
      "source": [
        "## Part 2: Calculating 95th percentile threshold exceedance\n",
        "\n",
        "In this section, we are going to look at the 95th percentile minimum and maximum temperature within the summer months (June, July, and August) in Atlanta, GA. This will give us a sense for what a rare or \"extreme\" hot temperature would look like at this particular location.\n",
        "\n",
        "Oftentimes, we use percentiles to define extremes, because what is extreme in one place might not be extreme in another location. For example, 100 F is very extreme in Alaska, but not so extreme in Phoenix, AZ.\n",
        "\n",
        "First let's look at daily maximum summer temperatures in Atlanta:"
      ],
      "metadata": {
        "id": "dmb4fDNwZjVQ"
      }
    },
    {
      "cell_type": "code",
      "source": [
        "## subset the data for summer months\n",
        "\n"
      ],
      "metadata": {
        "id": "J26cHMInZio8"
      },
      "execution_count": null,
      "outputs": []
    },
    {
      "cell_type": "markdown",
      "source": [
        "We will use the [quantile()](https://numpy.org/doc/2.0/reference/generated/numpy.quantile.html) function from the numpy package to calculate the 95th percentile"
      ],
      "metadata": {
        "id": "JpJGYls-U4oM"
      }
    },
    {
      "cell_type": "code",
      "source": [
        "# import numpy\n"
      ],
      "metadata": {
        "id": "W0zRSXWnYMMc"
      },
      "execution_count": null,
      "outputs": []
    },
    {
      "cell_type": "markdown",
      "source": [
        "How many days have maximum temperatures above the 95th percentile?"
      ],
      "metadata": {
        "id": "zQ0Zi7qbxU91"
      }
    },
    {
      "cell_type": "code",
      "source": [
        "\n",
        "\n"
      ],
      "metadata": {
        "id": "t-ay1jZUxSgf"
      },
      "execution_count": null,
      "outputs": []
    },
    {
      "cell_type": "markdown",
      "source": [
        "Let's look at the frequency of extreme hot days over time to see if it has changed:"
      ],
      "metadata": {
        "id": "wfhspWsZyALn"
      }
    },
    {
      "cell_type": "code",
      "source": [
        "## how many days are there with maximum temperatures above the 95th percentile in each year?\n",
        "## Hint: let's use our code from previous lectures to loop through all of the years\n",
        "\n"
      ],
      "metadata": {
        "id": "P9IfSuaEYMCp"
      },
      "execution_count": null,
      "outputs": []
    },
    {
      "cell_type": "code",
      "source": [
        "## make a time series plot:\n",
        "\n"
      ],
      "metadata": {
        "id": "X5kfAWG3t8n7"
      },
      "execution_count": null,
      "outputs": []
    },
    {
      "cell_type": "markdown",
      "source": [
        "To practice, let's apply the same analysis to daily minimum temperatures. Daily minimum temperatures are an especially important metric to understand the human health consequences of heat waves. If it stays very warm at night, people are unable to cool down and sustained hot temperatures are more likely to cause negative health impacts."
      ],
      "metadata": {
        "id": "ekOVFS_zxC7C"
      }
    },
    {
      "cell_type": "code",
      "source": [
        "## calculate the 95th percentile of daily minimum temperature for summer months (June, July, and August)\n",
        "\n"
      ],
      "metadata": {
        "id": "Pkg_oi38w5FD"
      },
      "execution_count": null,
      "outputs": []
    },
    {
      "cell_type": "code",
      "source": [
        "## how many days have minimum temperatures above this threshold in each year?\n",
        "\n"
      ],
      "metadata": {
        "id": "M-xZxVMXxNo2"
      },
      "execution_count": null,
      "outputs": []
    },
    {
      "cell_type": "code",
      "source": [
        "## add this to our figure\n",
        "\n"
      ],
      "metadata": {
        "id": "InosE8ExzvqD"
      },
      "execution_count": null,
      "outputs": []
    },
    {
      "cell_type": "markdown",
      "source": [
        "What are some other ways we could assess changes in the intensity or frequency of extreme hot events?"
      ],
      "metadata": {
        "id": "k_39F22RV43e"
      }
    },
    {
      "cell_type": "code",
      "source": [],
      "metadata": {
        "id": "Jc4xZ1IAWF22"
      },
      "execution_count": null,
      "outputs": []
    },
    {
      "cell_type": "code",
      "source": [],
      "metadata": {
        "id": "Ifmk6x3RzQkR"
      },
      "execution_count": null,
      "outputs": []
    },
    {
      "cell_type": "markdown",
      "source": [
        "## Part 3: Using Extreme Value statistics to analyze very rare temperature events\n",
        "\n",
        "In this section, we will use extreme value statistics to estimate the probability of very rare extreme events, including those that may be more rare than anything in the historical data."
      ],
      "metadata": {
        "id": "vZ3LbcuEYNZ6"
      }
    },
    {
      "cell_type": "markdown",
      "source": [
        "Recall from class, that extreme value theory applies to \"block maxima\", or the maximum value in each block of time. For this case, we will consider each calendar year as a block of time. This means we need to calculate the maximum temperature value within each year."
      ],
      "metadata": {
        "id": "8J82gQDN1vq7"
      }
    },
    {
      "cell_type": "markdown",
      "source": [
        "Secondly, recall from class that one of the assumptions of extreme value theory is that our data is \"stationary\", meaning that our data is not changing over time because of some external factor (such as climate change!). Clearly, our data is changing over time!\n",
        "\n",
        "For the purposes of this exercise, we will analyze data from the most recent 30-year period. While there are still changes over this period, these changes will be smaller than those over the entire period, so this will get us closer to stationary conditions."
      ],
      "metadata": {
        "id": "oacT9bBX2Cqx"
      }
    },
    {
      "cell_type": "code",
      "source": [
        "## calculate annual maxima for the period from 1994 through 2023\n",
        "\n"
      ],
      "metadata": {
        "id": "ws9yBtgb1u9n"
      },
      "execution_count": null,
      "outputs": []
    },
    {
      "cell_type": "markdown",
      "source": [
        "The Fisher–Tippett–Gnedenko theorem tells us that the distribution of block maxima can be described by the Generalized Extreme Value (GEV) distribution.\n",
        "\n",
        "The GEV distribution is described by three parameters (location, scale, and shape) and the following equation:\n",
        "\n",
        "\n",
        "GEV plot:"
      ],
      "metadata": {
        "id": "sqkKlZUw6Su8"
      }
    },
    {
      "cell_type": "markdown",
      "source": [
        "Just like we can calculate mean and standard deviation for a sample dataset, we can figure out which location, scale, and shape parameters best match our data.\n",
        "\n",
        "We will use the [genextreme()](https://docs.scipy.org/doc/scipy/reference/generated/scipy.stats.genextreme.html#scipy.stats.genextreme) function from the scipy package to calculate the GEV parameters for our data.  "
      ],
      "metadata": {
        "id": "XAFs6sK67Ajw"
      }
    },
    {
      "cell_type": "code",
      "source": [
        "## load genextreme() function\n",
        "\n"
      ],
      "metadata": {
        "id": "xkkdvhNjPtge"
      },
      "execution_count": null,
      "outputs": []
    },
    {
      "cell_type": "code",
      "source": [
        "## fit our data\n",
        "\n"
      ],
      "metadata": {
        "id": "A-mt3G7C1qGl"
      },
      "execution_count": null,
      "outputs": []
    },
    {
      "cell_type": "code",
      "source": [
        "## make a graph of a GEV distribution with these parameters\n",
        "\n"
      ],
      "metadata": {
        "id": "g4_FefJ115jl"
      },
      "execution_count": null,
      "outputs": []
    },
    {
      "cell_type": "code",
      "source": [
        "## what is the magnitude of a 10-year event? a 20-year event? a 100-year event?\n"
      ],
      "metadata": {
        "id": "AcYG3ZLT8Jnt"
      },
      "execution_count": null,
      "outputs": []
    },
    {
      "cell_type": "code",
      "source": [
        "## what is the uncertainty range for a 10-year event? what about a 100-year event?\n"
      ],
      "metadata": {
        "id": "wMPVgJKO8U_8"
      },
      "execution_count": null,
      "outputs": []
    },
    {
      "cell_type": "code",
      "source": [
        "## make a Quantile-Quantile plot\n",
        "\n"
      ],
      "metadata": {
        "id": "QrHxFeKp8ikF"
      },
      "execution_count": null,
      "outputs": []
    },
    {
      "cell_type": "code",
      "source": [
        "## make a Return Period plot\n",
        "\n"
      ],
      "metadata": {
        "id": "TMpwqQYb8iXr"
      },
      "execution_count": null,
      "outputs": []
    },
    {
      "cell_type": "code",
      "source": [
        "\n"
      ],
      "metadata": {
        "id": "E6y4zaIX8iCO"
      },
      "execution_count": null,
      "outputs": []
    }
  ]
}